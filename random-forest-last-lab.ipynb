{
 "cells": [
  {
   "cell_type": "code",
   "execution_count": 14,
   "id": "b46fdb04",
   "metadata": {},
   "outputs": [],
   "source": [
    "from sklearn.datasets import load_boston\n",
    "import pandas as pd\n",
    "import numpy as np\n",
    "import matplotlib.pyplot as plt\n",
    "import seaborn as sns \n",
    "from sklearn.model_selection import train_test_split\n",
    "from sklearn.tree import DecisionTreeRegressor\n",
    "# Modelling\n",
    "from sklearn.ensemble import RandomForestClassifier\n",
    "from sklearn.metrics import accuracy_score, confusion_matrix, precision_score, recall_score, ConfusionMatrixDisplay\n",
    "from sklearn.model_selection import RandomizedSearchCV, train_test_split\n",
    "from scipy.stats import randint\n",
    "from sklearn.preprocessing import MinMaxScaler\n",
    "\n",
    "from sklearn.preprocessing import OneHotEncoder\n"
   ]
  },
  {
   "cell_type": "code",
   "execution_count": 5,
   "id": "bb8fcba0",
   "metadata": {},
   "outputs": [],
   "source": [
    "categorical= pd.read_csv('categorical.csv')\n",
    "numerical= pd.read_csv('numerical.csv')\n",
    "target= pd.read_csv('target.csv')\n"
   ]
  },
  {
   "cell_type": "code",
   "execution_count": 6,
   "id": "b219d6d5",
   "metadata": {},
   "outputs": [
    {
     "data": {
      "text/plain": [
       "STATE           object\n",
       "CLUSTER          int64\n",
       "HOMEOWNR        object\n",
       "GENDER          object\n",
       "DATASRCE         int64\n",
       "RFA_2R          object\n",
       "RFA_2A          object\n",
       "GEOCODE2        object\n",
       "DOMAIN_A        object\n",
       "DOMAIN_B         int64\n",
       "ODATEW_YR        int64\n",
       "ODATEW_MM        int64\n",
       "DOB_YR           int64\n",
       "DOB_MM           int64\n",
       "MINRDATE_YR      int64\n",
       "MINRDATE_MM      int64\n",
       "MAXRDATE_YR      int64\n",
       "MAXRDATE_MM      int64\n",
       "LASTDATE_YR      int64\n",
       "LASTDATE_MM      int64\n",
       "FIRSTDATE_YR     int64\n",
       "FIRSTDATE_MM     int64\n",
       "dtype: object"
      ]
     },
     "execution_count": 6,
     "metadata": {},
     "output_type": "execute_result"
    }
   ],
   "source": [
    "## check cat types \n",
    "\n",
    "categorical.dtypes\n"
   ]
  },
  {
   "cell_type": "code",
   "execution_count": 33,
   "id": "149eb12b",
   "metadata": {},
   "outputs": [],
   "source": [
    "categorical = categorical.astype(object)\n",
    "\n",
    "all_data = pd.concat([numerical, categorical, target], axis=1)\n",
    "\n"
   ]
  },
  {
   "cell_type": "code",
   "execution_count": 34,
   "id": "7ed759bd",
   "metadata": {},
   "outputs": [],
   "source": [
    "X = all_data.drop(['TARGET_B'], axis = 1)\n",
    "y = all_data['TARGET_B']"
   ]
  },
  {
   "cell_type": "code",
   "execution_count": 35,
   "id": "3ac68933",
   "metadata": {},
   "outputs": [],
   "source": [
    "X_train, X_test, y_train, y_test = train_test_split(X, y, test_size=0.2)\n"
   ]
  },
  {
   "cell_type": "code",
   "execution_count": 36,
   "id": "c6c039fe",
   "metadata": {},
   "outputs": [],
   "source": [
    "X_train_num = X_train.select_dtypes(np.number)\n",
    "X_test_num = X_test.select_dtypes(np.number)\n",
    "X_train_cat = X_train.select_dtypes(object)\n",
    "X_test_cat = X_test.select_dtypes(object)"
   ]
  },
  {
   "cell_type": "code",
   "execution_count": 37,
   "id": "1146d362",
   "metadata": {},
   "outputs": [],
   "source": [
    "#Usage of MinMax Scaler\n",
    "scaler = MinMaxScaler().fit(X_train_num)\n",
    "X_train_num_scaled = scaler.transform(X_train_num)\n",
    "X_test_num_scaled = scaler.transform(X_test_num)"
   ]
  },
  {
   "cell_type": "code",
   "execution_count": 38,
   "id": "b2cc3d10",
   "metadata": {},
   "outputs": [],
   "source": [
    "X_train_num_scaled = pd.DataFrame(X_train_num_scaled, columns=list(X_train_num.columns))\n",
    "X_test_num_scaled = pd.DataFrame(X_test_num_scaled, columns=list(X_test_num.columns))"
   ]
  },
  {
   "cell_type": "code",
   "execution_count": 39,
   "id": "b02f5318",
   "metadata": {},
   "outputs": [
    {
     "name": "stderr",
     "output_type": "stream",
     "text": [
      "C:\\Users\\adyto\\anaconda3\\lib\\site-packages\\sklearn\\preprocessing\\_encoders.py:170: UserWarning: Found unknown categories in columns [11, 12, 14] during transform. These unknown categories will be encoded as all zeros\n",
      "  warnings.warn(\n"
     ]
    }
   ],
   "source": [
    "#Usage of One-Hot Encoding\n",
    "encoder = OneHotEncoder(drop='first', handle_unknown = 'ignore').fit(X_train_cat)\n",
    "all_columns = encoder.get_feature_names_out(input_features=X_train_cat.columns)\n",
    "X_train_cat_encode = pd.DataFrame(encoder.transform(X_train_cat).toarray(), columns=all_columns)\n",
    "X_test_cat_encode = pd.DataFrame(encoder.transform(X_test_cat).toarray(), columns=all_columns)"
   ]
  },
  {
   "cell_type": "code",
   "execution_count": 40,
   "id": "e392a075",
   "metadata": {},
   "outputs": [],
   "source": [
    "X_train = pd.concat((X_train_num_scaled,X_train_cat_encode),axis=1)\n",
    "X_test = pd.concat((X_test_num_scaled,X_test_cat_encode),axis=1)"
   ]
  },
  {
   "cell_type": "code",
   "execution_count": 41,
   "id": "c702efe7",
   "metadata": {
    "scrolled": true
   },
   "outputs": [
    {
     "name": "stdout",
     "output_type": "stream",
     "text": [
      "TrainSet =  0.9489840034587116\n",
      "TestSet =  0.9502698737095845\n"
     ]
    }
   ],
   "source": [
    "from sklearn.ensemble import RandomForestClassifier\n",
    "from sklearn.metrics import confusion_matrix\n",
    "\n",
    "clf = RandomForestClassifier(max_depth=5,\n",
    "                             min_samples_split=20,\n",
    "                             min_samples_leaf =20\n",
    "                             )\n",
    "clf.fit(X_train, y_train)\n",
    "print('TrainSet = ',clf.score(X_train, y_train))\n",
    "print('TestSet = ',clf.score(X_test, y_test))"
   ]
  },
  {
   "cell_type": "code",
   "execution_count": 42,
   "id": "c79563fd",
   "metadata": {},
   "outputs": [
    {
     "data": {
      "text/plain": [
       "0    18134\n",
       "1      949\n",
       "Name: TARGET_B, dtype: int64"
      ]
     },
     "metadata": {},
     "output_type": "display_data"
    },
    {
     "data": {
      "text/plain": [
       "array([[18134,     0],\n",
       "       [  949,     0]], dtype=int64)"
      ]
     },
     "metadata": {},
     "output_type": "display_data"
    }
   ],
   "source": [
    "y_pred = clf.predict(X_test)\n",
    "display(y_test.value_counts())\n",
    "display(confusion_matrix(y_test, y_pred))\n"
   ]
  },
  {
   "cell_type": "code",
   "execution_count": 43,
   "id": "3459eaf4",
   "metadata": {},
   "outputs": [],
   "source": [
    "y_train = y_train.reset_index(drop=True) \n",
    "y_test = y_test.reset_index(drop=True) "
   ]
  },
  {
   "cell_type": "code",
   "execution_count": 23,
   "id": "21868fe0",
   "metadata": {},
   "outputs": [],
   "source": [
    "### oversample "
   ]
  },
  {
   "cell_type": "code",
   "execution_count": 44,
   "id": "8090f98d",
   "metadata": {},
   "outputs": [],
   "source": [
    "trainset = pd.concat([X_train, y_train], axis=1)\n"
   ]
  },
  {
   "cell_type": "code",
   "execution_count": 45,
   "id": "ff1e8562",
   "metadata": {},
   "outputs": [],
   "source": [
    "# separate majority/minority classes\n",
    "category_0 = trainset[trainset['TARGET_B'] == 0]\n",
    "category_1 = trainset[trainset['TARGET_B'] == 1]"
   ]
  },
  {
   "cell_type": "code",
   "execution_count": 46,
   "id": "b8842347",
   "metadata": {},
   "outputs": [],
   "source": [
    "from sklearn.utils import resample\n",
    "category_1_oversampled = resample(category_1, \n",
    "                                    replace=True,            \n",
    "                                    n_samples = len(category_0)) "
   ]
  },
  {
   "cell_type": "code",
   "execution_count": 47,
   "id": "3f3ea932",
   "metadata": {},
   "outputs": [
    {
     "name": "stdout",
     "output_type": "stream",
     "text": [
      "(72435, 632)\n",
      "(72435, 632)\n"
     ]
    }
   ],
   "source": [
    "### checking shape \n",
    "\n",
    "print(category_1_oversampled.shape)\n",
    "print(category_0.shape)"
   ]
  },
  {
   "cell_type": "code",
   "execution_count": 48,
   "id": "6fb9f997",
   "metadata": {},
   "outputs": [],
   "source": [
    "train_oversampled = pd.concat([category_1_oversampled, category_0], axis=0)\n"
   ]
  },
  {
   "cell_type": "code",
   "execution_count": 49,
   "id": "53d61107",
   "metadata": {},
   "outputs": [],
   "source": [
    "trainset_new = train_oversampled.sample(frac =1)\n"
   ]
  },
  {
   "cell_type": "code",
   "execution_count": 50,
   "id": "fe9332a4",
   "metadata": {},
   "outputs": [
    {
     "data": {
      "text/plain": [
       "16086    0.050\n",
       "45830    0.125\n",
       "53767    0.050\n",
       "34218    0.025\n",
       "56804    0.150\n",
       "         ...  \n",
       "36714    0.050\n",
       "42883    0.025\n",
       "21309    0.085\n",
       "16999    0.000\n",
       "14245    0.000\n",
       "Name: TARGET_D, Length: 144870, dtype: float64"
      ]
     },
     "execution_count": 50,
     "metadata": {},
     "output_type": "execute_result"
    }
   ],
   "source": [
    "trainset_new[\"TARGET_D\"]"
   ]
  },
  {
   "cell_type": "code",
   "execution_count": 51,
   "id": "75f8b37a",
   "metadata": {},
   "outputs": [],
   "source": [
    "X_train = trainset_new.drop(['TARGET_B'], axis=1)\n",
    "y_train = trainset_new['TARGET_B']\n",
    "X_train = pd.DataFrame(X_train)\n",
    "X_test = pd.DataFrame(X_test)\n",
    "\n",
    "y_train_regression = X_train['TARGET_D']\n",
    "y_test_regression = X_test['TARGET_D']\n",
    "\n",
    "# Now we can remove the column target d from the set of features\n",
    "X_train = X_train.drop(['TARGET_D'], axis = 1)\n",
    "X_test = X_test.drop(['TARGET_D'], axis = 1)"
   ]
  },
  {
   "cell_type": "code",
   "execution_count": 52,
   "id": "05a4d4d1",
   "metadata": {},
   "outputs": [
    {
     "name": "stderr",
     "output_type": "stream",
     "text": [
      "C:\\Users\\adyto\\anaconda3\\lib\\site-packages\\sklearn\\preprocessing\\_encoders.py:170: UserWarning: Found unknown categories in columns [11, 12, 14] during transform. These unknown categories will be encoded as all zeros\n",
      "  warnings.warn(\n"
     ]
    }
   ],
   "source": [
    "#Usage of MinMax Scaler\n",
    "scaler = MinMaxScaler().fit(X_train_num)\n",
    "X_train_num_scaled = scaler.transform(X_train_num)\n",
    "X_test_num_scaled = scaler.transform(X_test_num)\n",
    "X_train_num_scaled = pd.DataFrame(X_train_num_scaled, columns=list(X_train_num.columns))\n",
    "X_test_num_scaled = pd.DataFrame(X_test_num_scaled, columns=list(X_test_num.columns))\n",
    "\n",
    "#Usage of One-Hot Encoding\n",
    "encoder = OneHotEncoder(drop='first', handle_unknown = 'ignore').fit(X_train_cat)\n",
    "all_columns = encoder.get_feature_names_out(input_features=X_train_cat.columns)\n",
    "X_train_cat_encode = pd.DataFrame(encoder.transform(X_train_cat).toarray(), columns=all_columns)\n",
    "X_test_cat_encode = pd.DataFrame(encoder.transform(X_test_cat).toarray(), columns=all_columns)"
   ]
  },
  {
   "cell_type": "code",
   "execution_count": 53,
   "id": "1aadac1d",
   "metadata": {},
   "outputs": [],
   "source": [
    "X_train = pd.concat((X_train_num_scaled,X_train_cat_encode),axis=1)\n",
    "X_test = pd.concat((X_test_num_scaled,X_test_cat_encode),axis=1)"
   ]
  },
  {
   "cell_type": "code",
   "execution_count": 54,
   "id": "dd8a8aba",
   "metadata": {},
   "outputs": [],
   "source": [
    "y_train = y_train.reset_index(drop=True) \n",
    "y_test = y_test.reset_index(drop=True) "
   ]
  },
  {
   "cell_type": "code",
   "execution_count": 56,
   "id": "faf96ea1",
   "metadata": {},
   "outputs": [],
   "source": [
    "train_oversampled = pd.concat([category_1_oversampled, category_0], axis=0)\n",
    "\n",
    "trainset_new = train_oversampled.sample(frac =1)\n",
    "\n"
   ]
  },
  {
   "cell_type": "code",
   "execution_count": 57,
   "id": "bfd616b5",
   "metadata": {},
   "outputs": [],
   "source": [
    "X_train = trainset_new.drop(['TARGET_B'], axis=1)\n",
    "y_train = trainset_new['TARGET_B']\n",
    "X_train = pd.DataFrame(X_train)\n",
    "X_test = pd.DataFrame(X_test)\n",
    "\n",
    "y_train_regression = X_train['TARGET_D']\n",
    "y_test_regression = X_test['TARGET_D']\n",
    "\n",
    "# Now we can remove the column target d from the set of features\n",
    "X_train = X_train.drop(['TARGET_D'], axis = 1)\n",
    "X_test = X_test.drop(['TARGET_D'], axis = 1)"
   ]
  },
  {
   "cell_type": "code",
   "execution_count": 58,
   "id": "5ca984e4",
   "metadata": {},
   "outputs": [
    {
     "name": "stdout",
     "output_type": "stream",
     "text": [
      "0.6187961620763444\n",
      "0.6078184771786407\n"
     ]
    },
    {
     "data": {
      "text/plain": [
       "0    18134\n",
       "1      949\n",
       "Name: TARGET_B, dtype: int64"
      ]
     },
     "metadata": {},
     "output_type": "display_data"
    },
    {
     "data": {
      "text/plain": [
       "array([[11068,  7066],\n",
       "       [  418,   531]], dtype=int64)"
      ]
     },
     "metadata": {},
     "output_type": "display_data"
    }
   ],
   "source": [
    "clf = RandomForestClassifier(max_depth=5, # max number of questions to ask\n",
    "                             min_samples_split=20, # amount of rows still considered at every question\n",
    "                             min_samples_leaf =20, # ultimate answer based on at least this many rows\n",
    "                             max_samples=0.2) # fraction of X-train to use in each tree\n",
    "clf.fit(X_train, y_train)\n",
    "print(clf.score(X_train, y_train))\n",
    "print(clf.score(X_test, y_test))\n",
    "\n",
    "y_pred = clf.predict(X_test)\n",
    "display(y_test.value_counts())\n",
    "display(confusion_matrix(y_test, y_pred))"
   ]
  },
  {
   "cell_type": "code",
   "execution_count": 61,
   "id": "f32f24bb",
   "metadata": {},
   "outputs": [
    {
     "name": "stdout",
     "output_type": "stream",
     "text": [
      "0.6194174087112584\n"
     ]
    }
   ],
   "source": [
    "from sklearn.model_selection import cross_val_score\n",
    "\n",
    "# For cross validation\n",
    "clf = RandomForestClassifier(max_depth=5,\n",
    "                             min_samples_split=20,\n",
    "                             min_samples_leaf =20)\n",
    "cross_val_scores = cross_val_score(clf, X_train, y_train, cv=5)\n",
    "print(np.mean(cross_val_scores))"
   ]
  },
  {
   "cell_type": "code",
   "execution_count": 64,
   "id": "46d30525",
   "metadata": {},
   "outputs": [
    {
     "data": {
      "text/plain": [
       "array([0.62121212, 0.61430938, 0.62628564, 0.61558639, 0.61969352])"
      ]
     },
     "execution_count": 64,
     "metadata": {},
     "output_type": "execute_result"
    }
   ],
   "source": [
    "cross_val_scores\n"
   ]
  },
  {
   "cell_type": "markdown",
   "id": "ce27ad54",
   "metadata": {},
   "source": [
    "# \\\\ Use Feature Selections  (Variance Threshold, RFE, PCA, etc.)\n"
   ]
  },
  {
   "cell_type": "markdown",
   "id": "4dad3cbb",
   "metadata": {},
   "source": [
    "SelectKBest"
   ]
  },
  {
   "cell_type": "code",
   "execution_count": 66,
   "id": "1232c0de",
   "metadata": {},
   "outputs": [
    {
     "name": "stdout",
     "output_type": "stream",
     "text": [
      "             score    Column\n",
      "311  527716.426176  CONTROLN\n",
      "140  187983.976667       IC5\n",
      "83    49855.611718       HV1\n",
      "84    49561.067003       HV2\n",
      "0     39087.069814     TCODE\n",
      "133   26891.429352       MSA\n",
      "13    17167.230879    POP901\n",
      "137    2921.367106       IC2\n",
      "14     2811.233301    POP902\n",
      "303    2756.199364  RAMNTALL\n",
      "139    2751.447661       IC4\n",
      "110    2620.983688      HVP1\n",
      "111    2549.991693      HVP2\n",
      "136    2448.754088       IC1\n",
      "138    2415.716681       IC3\n",
      "15     2166.139007    POP903\n",
      "112    2132.962948      HVP3\n",
      "115    1906.878033      HVP6\n",
      "304    1883.560588  NGIFTALL\n",
      "113    1472.531558      HVP4\n"
     ]
    }
   ],
   "source": [
    "X = numerical\n",
    "y = target['TARGET_B']\n",
    "\n",
    "from sklearn.feature_selection import SelectKBest\n",
    "from sklearn.feature_selection import chi2\n",
    "\n",
    "model = SelectKBest(chi2, k=20).fit(X, y)\n",
    "df = pd.DataFrame(data = model.scores_, columns = ['score'])\n",
    "df['Column'] = X.columns\n",
    "# Sorting data\n",
    "print(df.sort_values(by = ['score'], ascending = False).head(20))\n",
    "\n",
    "\n"
   ]
  },
  {
   "cell_type": "code",
   "execution_count": 67,
   "id": "1fdae2f6",
   "metadata": {},
   "outputs": [],
   "source": [
    "numerical_selected_list = ['CONTROLN', 'IC5', 'HV1', 'TCODE', 'MSA', 'POP901', 'RAMNTALL', 'HVP1', 'NGIFTALL']\n"
   ]
  },
  {
   "cell_type": "code",
   "execution_count": 68,
   "id": "a5353a3b",
   "metadata": {},
   "outputs": [],
   "source": [
    "numerical_kbest = numerical[numerical_selected_list].copy()\n"
   ]
  },
  {
   "cell_type": "code",
   "execution_count": 69,
   "id": "94d387f7",
   "metadata": {},
   "outputs": [
    {
     "data": {
      "text/html": [
       "<div>\n",
       "<style scoped>\n",
       "    .dataframe tbody tr th:only-of-type {\n",
       "        vertical-align: middle;\n",
       "    }\n",
       "\n",
       "    .dataframe tbody tr th {\n",
       "        vertical-align: top;\n",
       "    }\n",
       "\n",
       "    .dataframe thead th {\n",
       "        text-align: right;\n",
       "    }\n",
       "</style>\n",
       "<table border=\"1\" class=\"dataframe\">\n",
       "  <thead>\n",
       "    <tr style=\"text-align: right;\">\n",
       "      <th></th>\n",
       "      <th>CONTROLN</th>\n",
       "      <th>IC5</th>\n",
       "      <th>HV1</th>\n",
       "      <th>TCODE</th>\n",
       "      <th>MSA</th>\n",
       "      <th>POP901</th>\n",
       "      <th>RAMNTALL</th>\n",
       "      <th>HVP1</th>\n",
       "      <th>NGIFTALL</th>\n",
       "    </tr>\n",
       "  </thead>\n",
       "  <tbody>\n",
       "    <tr>\n",
       "      <th>0</th>\n",
       "      <td>95515</td>\n",
       "      <td>12883</td>\n",
       "      <td>479</td>\n",
       "      <td>0</td>\n",
       "      <td>0.0</td>\n",
       "      <td>992</td>\n",
       "      <td>240.0</td>\n",
       "      <td>2</td>\n",
       "      <td>31</td>\n",
       "    </tr>\n",
       "    <tr>\n",
       "      <th>1</th>\n",
       "      <td>148535</td>\n",
       "      <td>36175</td>\n",
       "      <td>5468</td>\n",
       "      <td>1</td>\n",
       "      <td>4480.0</td>\n",
       "      <td>3611</td>\n",
       "      <td>47.0</td>\n",
       "      <td>97</td>\n",
       "      <td>3</td>\n",
       "    </tr>\n",
       "    <tr>\n",
       "      <th>2</th>\n",
       "      <td>15078</td>\n",
       "      <td>11576</td>\n",
       "      <td>497</td>\n",
       "      <td>1</td>\n",
       "      <td>0.0</td>\n",
       "      <td>7001</td>\n",
       "      <td>202.0</td>\n",
       "      <td>0</td>\n",
       "      <td>27</td>\n",
       "    </tr>\n",
       "    <tr>\n",
       "      <th>3</th>\n",
       "      <td>172556</td>\n",
       "      <td>15130</td>\n",
       "      <td>1000</td>\n",
       "      <td>0</td>\n",
       "      <td>9340.0</td>\n",
       "      <td>640</td>\n",
       "      <td>109.0</td>\n",
       "      <td>10</td>\n",
       "      <td>16</td>\n",
       "    </tr>\n",
       "    <tr>\n",
       "      <th>4</th>\n",
       "      <td>7112</td>\n",
       "      <td>9836</td>\n",
       "      <td>576</td>\n",
       "      <td>0</td>\n",
       "      <td>5000.0</td>\n",
       "      <td>2520</td>\n",
       "      <td>254.0</td>\n",
       "      <td>0</td>\n",
       "      <td>37</td>\n",
       "    </tr>\n",
       "    <tr>\n",
       "      <th>...</th>\n",
       "      <td>...</td>\n",
       "      <td>...</td>\n",
       "      <td>...</td>\n",
       "      <td>...</td>\n",
       "      <td>...</td>\n",
       "      <td>...</td>\n",
       "      <td>...</td>\n",
       "      <td>...</td>\n",
       "      <td>...</td>\n",
       "    </tr>\n",
       "    <tr>\n",
       "      <th>95407</th>\n",
       "      <td>184568</td>\n",
       "      <td>18807</td>\n",
       "      <td>988</td>\n",
       "      <td>1</td>\n",
       "      <td>380.0</td>\n",
       "      <td>27380</td>\n",
       "      <td>25.0</td>\n",
       "      <td>2</td>\n",
       "      <td>1</td>\n",
       "    </tr>\n",
       "    <tr>\n",
       "      <th>95408</th>\n",
       "      <td>122706</td>\n",
       "      <td>26538</td>\n",
       "      <td>1679</td>\n",
       "      <td>1</td>\n",
       "      <td>3360.0</td>\n",
       "      <td>1254</td>\n",
       "      <td>20.0</td>\n",
       "      <td>18</td>\n",
       "      <td>1</td>\n",
       "    </tr>\n",
       "    <tr>\n",
       "      <th>95409</th>\n",
       "      <td>189641</td>\n",
       "      <td>12178</td>\n",
       "      <td>376</td>\n",
       "      <td>1</td>\n",
       "      <td>4040.0</td>\n",
       "      <td>552</td>\n",
       "      <td>58.0</td>\n",
       "      <td>0</td>\n",
       "      <td>7</td>\n",
       "    </tr>\n",
       "    <tr>\n",
       "      <th>95410</th>\n",
       "      <td>4693</td>\n",
       "      <td>15948</td>\n",
       "      <td>2421</td>\n",
       "      <td>0</td>\n",
       "      <td>8735.0</td>\n",
       "      <td>1746</td>\n",
       "      <td>498.0</td>\n",
       "      <td>89</td>\n",
       "      <td>41</td>\n",
       "    </tr>\n",
       "    <tr>\n",
       "      <th>95411</th>\n",
       "      <td>185114</td>\n",
       "      <td>16699</td>\n",
       "      <td>938</td>\n",
       "      <td>2</td>\n",
       "      <td>9200.0</td>\n",
       "      <td>3935</td>\n",
       "      <td>3775.0</td>\n",
       "      <td>3</td>\n",
       "      <td>39</td>\n",
       "    </tr>\n",
       "  </tbody>\n",
       "</table>\n",
       "<p>95412 rows × 9 columns</p>\n",
       "</div>"
      ],
      "text/plain": [
       "       CONTROLN    IC5   HV1  TCODE     MSA  POP901  RAMNTALL  HVP1  NGIFTALL\n",
       "0         95515  12883   479      0     0.0     992     240.0     2        31\n",
       "1        148535  36175  5468      1  4480.0    3611      47.0    97         3\n",
       "2         15078  11576   497      1     0.0    7001     202.0     0        27\n",
       "3        172556  15130  1000      0  9340.0     640     109.0    10        16\n",
       "4          7112   9836   576      0  5000.0    2520     254.0     0        37\n",
       "...         ...    ...   ...    ...     ...     ...       ...   ...       ...\n",
       "95407    184568  18807   988      1   380.0   27380      25.0     2         1\n",
       "95408    122706  26538  1679      1  3360.0    1254      20.0    18         1\n",
       "95409    189641  12178   376      1  4040.0     552      58.0     0         7\n",
       "95410      4693  15948  2421      0  8735.0    1746     498.0    89        41\n",
       "95411    185114  16699   938      2  9200.0    3935    3775.0     3        39\n",
       "\n",
       "[95412 rows x 9 columns]"
      ]
     },
     "execution_count": 69,
     "metadata": {},
     "output_type": "execute_result"
    }
   ],
   "source": [
    "numerical_kbest\n"
   ]
  },
  {
   "cell_type": "code",
   "execution_count": 70,
   "id": "bc32d642",
   "metadata": {},
   "outputs": [],
   "source": [
    "all_data_kbest = pd.concat([numerical_kbest, target], axis=1)\n"
   ]
  },
  {
   "cell_type": "code",
   "execution_count": 71,
   "id": "3a265b0f",
   "metadata": {},
   "outputs": [],
   "source": [
    "X_kbest = all_data_kbest.drop(['TARGET_B'], axis = 1)\n",
    "y_kbest = all_data_kbest['TARGET_B']"
   ]
  },
  {
   "cell_type": "code",
   "execution_count": 72,
   "id": "86f6b6eb",
   "metadata": {},
   "outputs": [],
   "source": [
    "X_train, X_test, y_train, y_test = train_test_split(X_kbest, y_kbest, test_size=0.25)\n",
    "\n",
    "#Usage of MinMax Scaler\n",
    "scaler = MinMaxScaler().fit(X_train)\n",
    "\n",
    "X_train_scaled = scaler.transform(X_train)\n",
    "X_test_scaled = scaler.transform(X_test)\n",
    "\n",
    "X_train_scaled = pd.DataFrame(X_train_scaled, columns=list(X_train.columns))\n",
    "X_test_scaled = pd.DataFrame(X_test_scaled, columns=list(X_test.columns))\n",
    "\n",
    "y_train = y_train.reset_index(drop=True) \n",
    "y_test = y_test.reset_index(drop=True) \n",
    "\n",
    "trainset = pd.concat([X_train_scaled, y_train], axis=1)"
   ]
  },
  {
   "cell_type": "code",
   "execution_count": 73,
   "id": "4b140ff7",
   "metadata": {},
   "outputs": [],
   "source": [
    "# separate majority/minority classes\n",
    "category_0 = trainset[trainset['TARGET_B'] == 0]\n",
    "category_1 = trainset[trainset['TARGET_B'] == 1]\n",
    "\n",
    "from sklearn.utils import resample\n",
    "category_1_oversampled = resample(category_1, \n",
    "                                    replace=True,            \n",
    "                                    n_samples = len(category_0))  \n"
   ]
  },
  {
   "cell_type": "code",
   "execution_count": 74,
   "id": "4a2ba06e",
   "metadata": {
    "scrolled": true
   },
   "outputs": [],
   "source": [
    "\n",
    "train_oversampled = pd.concat([category_1_oversampled, category_0], axis=0)\n",
    "\n",
    "trainset_new = train_oversampled.sample(frac =1)\n"
   ]
  },
  {
   "cell_type": "code",
   "execution_count": 53,
   "id": "d1ec5a8e",
   "metadata": {},
   "outputs": [],
   "source": [
    "# To check the scores\n",
    "model = SelectKBest(chi2, k=10).fit(X, y)\n",
    "df['Column'] = numerical.columns\n"
   ]
  },
  {
   "cell_type": "code",
   "execution_count": 75,
   "id": "fad384db",
   "metadata": {},
   "outputs": [
    {
     "name": "stdout",
     "output_type": "stream",
     "text": [
      "(67933, 11)\n",
      "(3626, 11)\n",
      "(67933, 11)\n",
      "(135866, 11)\n",
      "(135866, 11)\n"
     ]
    }
   ],
   "source": [
    "print(category_0.shape)\n",
    "print(category_1.shape)\n",
    "print(category_1_oversampled.shape)\n",
    "print(train_oversampled.shape)\n",
    "print(trainset_new.shape)\n",
    "## checking for balance "
   ]
  },
  {
   "cell_type": "code",
   "execution_count": 76,
   "id": "9d0c9074",
   "metadata": {},
   "outputs": [],
   "source": [
    "X_train = trainset_new.drop(['TARGET_B'], axis=1)\n",
    "y_train = trainset_new['TARGET_B'].reset_index()\n",
    "X_train = pd.DataFrame(X_train)\n",
    "X_test = pd.DataFrame(X_test)\n",
    "\n",
    "y_train_regression = X_train['TARGET_D']\n",
    "y_test_regression = X_test['TARGET_D']\n",
    "\n",
    "# Now we can remove the column target d from the set of features\n",
    "X_train = X_train.drop(['TARGET_D'], axis = 1).reset_index()\n",
    "X_test = X_test.drop(['TARGET_D'], axis = 1).reset_index()\n",
    "\n",
    "## dropping target d and separating as needed \n"
   ]
  },
  {
   "cell_type": "code",
   "execution_count": 77,
   "id": "616a3f86",
   "metadata": {},
   "outputs": [
    {
     "ename": "KeyboardInterrupt",
     "evalue": "",
     "output_type": "error",
     "traceback": [
      "\u001b[1;31m---------------------------------------------------------------------------\u001b[0m",
      "\u001b[1;31mKeyboardInterrupt\u001b[0m                         Traceback (most recent call last)",
      "\u001b[1;32m~\\AppData\\Local\\Temp\\ipykernel_13408\\35044867.py\u001b[0m in \u001b[0;36m<module>\u001b[1;34m\u001b[0m\n\u001b[0;32m      3\u001b[0m                              min_samples_leaf =20) # ultimate answer based on at least this many rows\n\u001b[0;32m      4\u001b[0m                                                     \u001b[1;31m# fraction of X-train to use in each tree\u001b[0m\u001b[1;33m\u001b[0m\u001b[1;33m\u001b[0m\u001b[0m\n\u001b[1;32m----> 5\u001b[1;33m \u001b[0mclf_kbest\u001b[0m\u001b[1;33m.\u001b[0m\u001b[0mfit\u001b[0m\u001b[1;33m(\u001b[0m\u001b[0mX_train\u001b[0m\u001b[1;33m,\u001b[0m \u001b[0my_train\u001b[0m\u001b[1;33m)\u001b[0m\u001b[1;33m\u001b[0m\u001b[1;33m\u001b[0m\u001b[0m\n\u001b[0m\u001b[0;32m      6\u001b[0m \u001b[0mprint\u001b[0m\u001b[1;33m(\u001b[0m\u001b[0mclf_kbest\u001b[0m\u001b[1;33m.\u001b[0m\u001b[0mscore\u001b[0m\u001b[1;33m(\u001b[0m\u001b[0mX_train\u001b[0m\u001b[1;33m,\u001b[0m \u001b[0my_train\u001b[0m\u001b[1;33m)\u001b[0m\u001b[1;33m)\u001b[0m\u001b[1;33m\u001b[0m\u001b[1;33m\u001b[0m\u001b[0m\n\u001b[0;32m      7\u001b[0m \u001b[0mprint\u001b[0m\u001b[1;33m(\u001b[0m\u001b[0mclf_kbest\u001b[0m\u001b[1;33m.\u001b[0m\u001b[0mscore\u001b[0m\u001b[1;33m(\u001b[0m\u001b[0mX_test\u001b[0m\u001b[1;33m,\u001b[0m \u001b[0my_test\u001b[0m\u001b[1;33m)\u001b[0m\u001b[1;33m)\u001b[0m\u001b[1;33m\u001b[0m\u001b[1;33m\u001b[0m\u001b[0m\n",
      "\u001b[1;32m~\\anaconda3\\lib\\site-packages\\sklearn\\ensemble\\_forest.py\u001b[0m in \u001b[0;36mfit\u001b[1;34m(self, X, y, sample_weight)\u001b[0m\n\u001b[0;32m    448\u001b[0m             \u001b[1;31m# parallel_backend contexts set at a higher level,\u001b[0m\u001b[1;33m\u001b[0m\u001b[1;33m\u001b[0m\u001b[0m\n\u001b[0;32m    449\u001b[0m             \u001b[1;31m# since correctness does not rely on using threads.\u001b[0m\u001b[1;33m\u001b[0m\u001b[1;33m\u001b[0m\u001b[0m\n\u001b[1;32m--> 450\u001b[1;33m             trees = Parallel(\n\u001b[0m\u001b[0;32m    451\u001b[0m                 \u001b[0mn_jobs\u001b[0m\u001b[1;33m=\u001b[0m\u001b[0mself\u001b[0m\u001b[1;33m.\u001b[0m\u001b[0mn_jobs\u001b[0m\u001b[1;33m,\u001b[0m\u001b[1;33m\u001b[0m\u001b[1;33m\u001b[0m\u001b[0m\n\u001b[0;32m    452\u001b[0m                 \u001b[0mverbose\u001b[0m\u001b[1;33m=\u001b[0m\u001b[0mself\u001b[0m\u001b[1;33m.\u001b[0m\u001b[0mverbose\u001b[0m\u001b[1;33m,\u001b[0m\u001b[1;33m\u001b[0m\u001b[1;33m\u001b[0m\u001b[0m\n",
      "\u001b[1;32m~\\anaconda3\\lib\\site-packages\\joblib\\parallel.py\u001b[0m in \u001b[0;36m__call__\u001b[1;34m(self, iterable)\u001b[0m\n\u001b[0;32m   1086\u001b[0m                 \u001b[0mself\u001b[0m\u001b[1;33m.\u001b[0m\u001b[0m_iterating\u001b[0m \u001b[1;33m=\u001b[0m \u001b[0mself\u001b[0m\u001b[1;33m.\u001b[0m\u001b[0m_original_iterator\u001b[0m \u001b[1;32mis\u001b[0m \u001b[1;32mnot\u001b[0m \u001b[1;32mNone\u001b[0m\u001b[1;33m\u001b[0m\u001b[1;33m\u001b[0m\u001b[0m\n\u001b[0;32m   1087\u001b[0m \u001b[1;33m\u001b[0m\u001b[0m\n\u001b[1;32m-> 1088\u001b[1;33m             \u001b[1;32mwhile\u001b[0m \u001b[0mself\u001b[0m\u001b[1;33m.\u001b[0m\u001b[0mdispatch_one_batch\u001b[0m\u001b[1;33m(\u001b[0m\u001b[0miterator\u001b[0m\u001b[1;33m)\u001b[0m\u001b[1;33m:\u001b[0m\u001b[1;33m\u001b[0m\u001b[1;33m\u001b[0m\u001b[0m\n\u001b[0m\u001b[0;32m   1089\u001b[0m                 \u001b[1;32mpass\u001b[0m\u001b[1;33m\u001b[0m\u001b[1;33m\u001b[0m\u001b[0m\n\u001b[0;32m   1090\u001b[0m \u001b[1;33m\u001b[0m\u001b[0m\n",
      "\u001b[1;32m~\\anaconda3\\lib\\site-packages\\joblib\\parallel.py\u001b[0m in \u001b[0;36mdispatch_one_batch\u001b[1;34m(self, iterator)\u001b[0m\n\u001b[0;32m    899\u001b[0m                 \u001b[1;32mreturn\u001b[0m \u001b[1;32mFalse\u001b[0m\u001b[1;33m\u001b[0m\u001b[1;33m\u001b[0m\u001b[0m\n\u001b[0;32m    900\u001b[0m             \u001b[1;32melse\u001b[0m\u001b[1;33m:\u001b[0m\u001b[1;33m\u001b[0m\u001b[1;33m\u001b[0m\u001b[0m\n\u001b[1;32m--> 901\u001b[1;33m                 \u001b[0mself\u001b[0m\u001b[1;33m.\u001b[0m\u001b[0m_dispatch\u001b[0m\u001b[1;33m(\u001b[0m\u001b[0mtasks\u001b[0m\u001b[1;33m)\u001b[0m\u001b[1;33m\u001b[0m\u001b[1;33m\u001b[0m\u001b[0m\n\u001b[0m\u001b[0;32m    902\u001b[0m                 \u001b[1;32mreturn\u001b[0m \u001b[1;32mTrue\u001b[0m\u001b[1;33m\u001b[0m\u001b[1;33m\u001b[0m\u001b[0m\n\u001b[0;32m    903\u001b[0m \u001b[1;33m\u001b[0m\u001b[0m\n",
      "\u001b[1;32m~\\anaconda3\\lib\\site-packages\\joblib\\parallel.py\u001b[0m in \u001b[0;36m_dispatch\u001b[1;34m(self, batch)\u001b[0m\n\u001b[0;32m    817\u001b[0m         \u001b[1;32mwith\u001b[0m \u001b[0mself\u001b[0m\u001b[1;33m.\u001b[0m\u001b[0m_lock\u001b[0m\u001b[1;33m:\u001b[0m\u001b[1;33m\u001b[0m\u001b[1;33m\u001b[0m\u001b[0m\n\u001b[0;32m    818\u001b[0m             \u001b[0mjob_idx\u001b[0m \u001b[1;33m=\u001b[0m \u001b[0mlen\u001b[0m\u001b[1;33m(\u001b[0m\u001b[0mself\u001b[0m\u001b[1;33m.\u001b[0m\u001b[0m_jobs\u001b[0m\u001b[1;33m)\u001b[0m\u001b[1;33m\u001b[0m\u001b[1;33m\u001b[0m\u001b[0m\n\u001b[1;32m--> 819\u001b[1;33m             \u001b[0mjob\u001b[0m \u001b[1;33m=\u001b[0m \u001b[0mself\u001b[0m\u001b[1;33m.\u001b[0m\u001b[0m_backend\u001b[0m\u001b[1;33m.\u001b[0m\u001b[0mapply_async\u001b[0m\u001b[1;33m(\u001b[0m\u001b[0mbatch\u001b[0m\u001b[1;33m,\u001b[0m \u001b[0mcallback\u001b[0m\u001b[1;33m=\u001b[0m\u001b[0mcb\u001b[0m\u001b[1;33m)\u001b[0m\u001b[1;33m\u001b[0m\u001b[1;33m\u001b[0m\u001b[0m\n\u001b[0m\u001b[0;32m    820\u001b[0m             \u001b[1;31m# A job can complete so quickly than its callback is\u001b[0m\u001b[1;33m\u001b[0m\u001b[1;33m\u001b[0m\u001b[0m\n\u001b[0;32m    821\u001b[0m             \u001b[1;31m# called before we get here, causing self._jobs to\u001b[0m\u001b[1;33m\u001b[0m\u001b[1;33m\u001b[0m\u001b[0m\n",
      "\u001b[1;32m~\\anaconda3\\lib\\site-packages\\joblib\\_parallel_backends.py\u001b[0m in \u001b[0;36mapply_async\u001b[1;34m(self, func, callback)\u001b[0m\n\u001b[0;32m    206\u001b[0m     \u001b[1;32mdef\u001b[0m \u001b[0mapply_async\u001b[0m\u001b[1;33m(\u001b[0m\u001b[0mself\u001b[0m\u001b[1;33m,\u001b[0m \u001b[0mfunc\u001b[0m\u001b[1;33m,\u001b[0m \u001b[0mcallback\u001b[0m\u001b[1;33m=\u001b[0m\u001b[1;32mNone\u001b[0m\u001b[1;33m)\u001b[0m\u001b[1;33m:\u001b[0m\u001b[1;33m\u001b[0m\u001b[1;33m\u001b[0m\u001b[0m\n\u001b[0;32m    207\u001b[0m         \u001b[1;34m\"\"\"Schedule a func to be run\"\"\"\u001b[0m\u001b[1;33m\u001b[0m\u001b[1;33m\u001b[0m\u001b[0m\n\u001b[1;32m--> 208\u001b[1;33m         \u001b[0mresult\u001b[0m \u001b[1;33m=\u001b[0m \u001b[0mImmediateResult\u001b[0m\u001b[1;33m(\u001b[0m\u001b[0mfunc\u001b[0m\u001b[1;33m)\u001b[0m\u001b[1;33m\u001b[0m\u001b[1;33m\u001b[0m\u001b[0m\n\u001b[0m\u001b[0;32m    209\u001b[0m         \u001b[1;32mif\u001b[0m \u001b[0mcallback\u001b[0m\u001b[1;33m:\u001b[0m\u001b[1;33m\u001b[0m\u001b[1;33m\u001b[0m\u001b[0m\n\u001b[0;32m    210\u001b[0m             \u001b[0mcallback\u001b[0m\u001b[1;33m(\u001b[0m\u001b[0mresult\u001b[0m\u001b[1;33m)\u001b[0m\u001b[1;33m\u001b[0m\u001b[1;33m\u001b[0m\u001b[0m\n",
      "\u001b[1;32m~\\anaconda3\\lib\\site-packages\\joblib\\_parallel_backends.py\u001b[0m in \u001b[0;36m__init__\u001b[1;34m(self, batch)\u001b[0m\n\u001b[0;32m    595\u001b[0m         \u001b[1;31m# Don't delay the application, to avoid keeping the input\u001b[0m\u001b[1;33m\u001b[0m\u001b[1;33m\u001b[0m\u001b[0m\n\u001b[0;32m    596\u001b[0m         \u001b[1;31m# arguments in memory\u001b[0m\u001b[1;33m\u001b[0m\u001b[1;33m\u001b[0m\u001b[0m\n\u001b[1;32m--> 597\u001b[1;33m         \u001b[0mself\u001b[0m\u001b[1;33m.\u001b[0m\u001b[0mresults\u001b[0m \u001b[1;33m=\u001b[0m \u001b[0mbatch\u001b[0m\u001b[1;33m(\u001b[0m\u001b[1;33m)\u001b[0m\u001b[1;33m\u001b[0m\u001b[1;33m\u001b[0m\u001b[0m\n\u001b[0m\u001b[0;32m    598\u001b[0m \u001b[1;33m\u001b[0m\u001b[0m\n\u001b[0;32m    599\u001b[0m     \u001b[1;32mdef\u001b[0m \u001b[0mget\u001b[0m\u001b[1;33m(\u001b[0m\u001b[0mself\u001b[0m\u001b[1;33m)\u001b[0m\u001b[1;33m:\u001b[0m\u001b[1;33m\u001b[0m\u001b[1;33m\u001b[0m\u001b[0m\n",
      "\u001b[1;32m~\\anaconda3\\lib\\site-packages\\joblib\\parallel.py\u001b[0m in \u001b[0;36m__call__\u001b[1;34m(self)\u001b[0m\n\u001b[0;32m    286\u001b[0m         \u001b[1;31m# change the default number of processes to -1\u001b[0m\u001b[1;33m\u001b[0m\u001b[1;33m\u001b[0m\u001b[0m\n\u001b[0;32m    287\u001b[0m         \u001b[1;32mwith\u001b[0m \u001b[0mparallel_backend\u001b[0m\u001b[1;33m(\u001b[0m\u001b[0mself\u001b[0m\u001b[1;33m.\u001b[0m\u001b[0m_backend\u001b[0m\u001b[1;33m,\u001b[0m \u001b[0mn_jobs\u001b[0m\u001b[1;33m=\u001b[0m\u001b[0mself\u001b[0m\u001b[1;33m.\u001b[0m\u001b[0m_n_jobs\u001b[0m\u001b[1;33m)\u001b[0m\u001b[1;33m:\u001b[0m\u001b[1;33m\u001b[0m\u001b[1;33m\u001b[0m\u001b[0m\n\u001b[1;32m--> 288\u001b[1;33m             return [func(*args, **kwargs)\n\u001b[0m\u001b[0;32m    289\u001b[0m                     for func, args, kwargs in self.items]\n\u001b[0;32m    290\u001b[0m \u001b[1;33m\u001b[0m\u001b[0m\n",
      "\u001b[1;32m~\\anaconda3\\lib\\site-packages\\joblib\\parallel.py\u001b[0m in \u001b[0;36m<listcomp>\u001b[1;34m(.0)\u001b[0m\n\u001b[0;32m    286\u001b[0m         \u001b[1;31m# change the default number of processes to -1\u001b[0m\u001b[1;33m\u001b[0m\u001b[1;33m\u001b[0m\u001b[0m\n\u001b[0;32m    287\u001b[0m         \u001b[1;32mwith\u001b[0m \u001b[0mparallel_backend\u001b[0m\u001b[1;33m(\u001b[0m\u001b[0mself\u001b[0m\u001b[1;33m.\u001b[0m\u001b[0m_backend\u001b[0m\u001b[1;33m,\u001b[0m \u001b[0mn_jobs\u001b[0m\u001b[1;33m=\u001b[0m\u001b[0mself\u001b[0m\u001b[1;33m.\u001b[0m\u001b[0m_n_jobs\u001b[0m\u001b[1;33m)\u001b[0m\u001b[1;33m:\u001b[0m\u001b[1;33m\u001b[0m\u001b[1;33m\u001b[0m\u001b[0m\n\u001b[1;32m--> 288\u001b[1;33m             return [func(*args, **kwargs)\n\u001b[0m\u001b[0;32m    289\u001b[0m                     for func, args, kwargs in self.items]\n\u001b[0;32m    290\u001b[0m \u001b[1;33m\u001b[0m\u001b[0m\n",
      "\u001b[1;32m~\\anaconda3\\lib\\site-packages\\sklearn\\utils\\fixes.py\u001b[0m in \u001b[0;36m__call__\u001b[1;34m(self, *args, **kwargs)\u001b[0m\n\u001b[0;32m    214\u001b[0m     \u001b[1;32mdef\u001b[0m \u001b[0m__call__\u001b[0m\u001b[1;33m(\u001b[0m\u001b[0mself\u001b[0m\u001b[1;33m,\u001b[0m \u001b[1;33m*\u001b[0m\u001b[0margs\u001b[0m\u001b[1;33m,\u001b[0m \u001b[1;33m**\u001b[0m\u001b[0mkwargs\u001b[0m\u001b[1;33m)\u001b[0m\u001b[1;33m:\u001b[0m\u001b[1;33m\u001b[0m\u001b[1;33m\u001b[0m\u001b[0m\n\u001b[0;32m    215\u001b[0m         \u001b[1;32mwith\u001b[0m \u001b[0mconfig_context\u001b[0m\u001b[1;33m(\u001b[0m\u001b[1;33m**\u001b[0m\u001b[0mself\u001b[0m\u001b[1;33m.\u001b[0m\u001b[0mconfig\u001b[0m\u001b[1;33m)\u001b[0m\u001b[1;33m:\u001b[0m\u001b[1;33m\u001b[0m\u001b[1;33m\u001b[0m\u001b[0m\n\u001b[1;32m--> 216\u001b[1;33m             \u001b[1;32mreturn\u001b[0m \u001b[0mself\u001b[0m\u001b[1;33m.\u001b[0m\u001b[0mfunction\u001b[0m\u001b[1;33m(\u001b[0m\u001b[1;33m*\u001b[0m\u001b[0margs\u001b[0m\u001b[1;33m,\u001b[0m \u001b[1;33m**\u001b[0m\u001b[0mkwargs\u001b[0m\u001b[1;33m)\u001b[0m\u001b[1;33m\u001b[0m\u001b[1;33m\u001b[0m\u001b[0m\n\u001b[0m\u001b[0;32m    217\u001b[0m \u001b[1;33m\u001b[0m\u001b[0m\n\u001b[0;32m    218\u001b[0m \u001b[1;33m\u001b[0m\u001b[0m\n",
      "\u001b[1;32m~\\anaconda3\\lib\\site-packages\\sklearn\\ensemble\\_forest.py\u001b[0m in \u001b[0;36m_parallel_build_trees\u001b[1;34m(tree, forest, X, y, sample_weight, tree_idx, n_trees, verbose, class_weight, n_samples_bootstrap)\u001b[0m\n\u001b[0;32m    183\u001b[0m             \u001b[0mcurr_sample_weight\u001b[0m \u001b[1;33m*=\u001b[0m \u001b[0mcompute_sample_weight\u001b[0m\u001b[1;33m(\u001b[0m\u001b[1;34m\"balanced\"\u001b[0m\u001b[1;33m,\u001b[0m \u001b[0my\u001b[0m\u001b[1;33m,\u001b[0m \u001b[0mindices\u001b[0m\u001b[1;33m=\u001b[0m\u001b[0mindices\u001b[0m\u001b[1;33m)\u001b[0m\u001b[1;33m\u001b[0m\u001b[1;33m\u001b[0m\u001b[0m\n\u001b[0;32m    184\u001b[0m \u001b[1;33m\u001b[0m\u001b[0m\n\u001b[1;32m--> 185\u001b[1;33m         \u001b[0mtree\u001b[0m\u001b[1;33m.\u001b[0m\u001b[0mfit\u001b[0m\u001b[1;33m(\u001b[0m\u001b[0mX\u001b[0m\u001b[1;33m,\u001b[0m \u001b[0my\u001b[0m\u001b[1;33m,\u001b[0m \u001b[0msample_weight\u001b[0m\u001b[1;33m=\u001b[0m\u001b[0mcurr_sample_weight\u001b[0m\u001b[1;33m,\u001b[0m \u001b[0mcheck_input\u001b[0m\u001b[1;33m=\u001b[0m\u001b[1;32mFalse\u001b[0m\u001b[1;33m)\u001b[0m\u001b[1;33m\u001b[0m\u001b[1;33m\u001b[0m\u001b[0m\n\u001b[0m\u001b[0;32m    186\u001b[0m     \u001b[1;32melse\u001b[0m\u001b[1;33m:\u001b[0m\u001b[1;33m\u001b[0m\u001b[1;33m\u001b[0m\u001b[0m\n\u001b[0;32m    187\u001b[0m         \u001b[0mtree\u001b[0m\u001b[1;33m.\u001b[0m\u001b[0mfit\u001b[0m\u001b[1;33m(\u001b[0m\u001b[0mX\u001b[0m\u001b[1;33m,\u001b[0m \u001b[0my\u001b[0m\u001b[1;33m,\u001b[0m \u001b[0msample_weight\u001b[0m\u001b[1;33m=\u001b[0m\u001b[0msample_weight\u001b[0m\u001b[1;33m,\u001b[0m \u001b[0mcheck_input\u001b[0m\u001b[1;33m=\u001b[0m\u001b[1;32mFalse\u001b[0m\u001b[1;33m)\u001b[0m\u001b[1;33m\u001b[0m\u001b[1;33m\u001b[0m\u001b[0m\n",
      "\u001b[1;32m~\\anaconda3\\lib\\site-packages\\sklearn\\tree\\_classes.py\u001b[0m in \u001b[0;36mfit\u001b[1;34m(self, X, y, sample_weight, check_input, X_idx_sorted)\u001b[0m\n\u001b[0;32m    935\u001b[0m         \"\"\"\n\u001b[0;32m    936\u001b[0m \u001b[1;33m\u001b[0m\u001b[0m\n\u001b[1;32m--> 937\u001b[1;33m         super().fit(\n\u001b[0m\u001b[0;32m    938\u001b[0m             \u001b[0mX\u001b[0m\u001b[1;33m,\u001b[0m\u001b[1;33m\u001b[0m\u001b[1;33m\u001b[0m\u001b[0m\n\u001b[0;32m    939\u001b[0m             \u001b[0my\u001b[0m\u001b[1;33m,\u001b[0m\u001b[1;33m\u001b[0m\u001b[1;33m\u001b[0m\u001b[0m\n",
      "\u001b[1;32m~\\anaconda3\\lib\\site-packages\\sklearn\\tree\\_classes.py\u001b[0m in \u001b[0;36mfit\u001b[1;34m(self, X, y, sample_weight, check_input, X_idx_sorted)\u001b[0m\n\u001b[0;32m    418\u001b[0m             )\n\u001b[0;32m    419\u001b[0m \u001b[1;33m\u001b[0m\u001b[0m\n\u001b[1;32m--> 420\u001b[1;33m         \u001b[0mbuilder\u001b[0m\u001b[1;33m.\u001b[0m\u001b[0mbuild\u001b[0m\u001b[1;33m(\u001b[0m\u001b[0mself\u001b[0m\u001b[1;33m.\u001b[0m\u001b[0mtree_\u001b[0m\u001b[1;33m,\u001b[0m \u001b[0mX\u001b[0m\u001b[1;33m,\u001b[0m \u001b[0my\u001b[0m\u001b[1;33m,\u001b[0m \u001b[0msample_weight\u001b[0m\u001b[1;33m)\u001b[0m\u001b[1;33m\u001b[0m\u001b[1;33m\u001b[0m\u001b[0m\n\u001b[0m\u001b[0;32m    421\u001b[0m \u001b[1;33m\u001b[0m\u001b[0m\n\u001b[0;32m    422\u001b[0m         \u001b[1;32mif\u001b[0m \u001b[0mself\u001b[0m\u001b[1;33m.\u001b[0m\u001b[0mn_outputs_\u001b[0m \u001b[1;33m==\u001b[0m \u001b[1;36m1\u001b[0m \u001b[1;32mand\u001b[0m \u001b[0mis_classifier\u001b[0m\u001b[1;33m(\u001b[0m\u001b[0mself\u001b[0m\u001b[1;33m)\u001b[0m\u001b[1;33m:\u001b[0m\u001b[1;33m\u001b[0m\u001b[1;33m\u001b[0m\u001b[0m\n",
      "\u001b[1;31mKeyboardInterrupt\u001b[0m: "
     ]
    }
   ],
   "source": [
    "clf_kbest = RandomForestClassifier(max_depth=5, # max number of questions to ask\n",
    "                             min_samples_split=20, # amount of rows still considered at every question\n",
    "                             min_samples_leaf =20) # ultimate answer based on at least this many rows\n",
    "                                                    # fraction of X-train to use in each tree\n",
    "clf_kbest.fit(X_train, y_train)\n",
    "print(clf_kbest.score(X_train, y_train))\n",
    "print(clf_kbest.score(X_test, y_test))\n",
    "\n",
    "y_pred = clf_kbest.predict(X_test)\n",
    "display(y_test.value_counts())\n",
    "display(confusion_matrix(y_test, y_pred))\n",
    "\n",
    "### using the RandomForestClassifier\n",
    "\n",
    "### didnt work therefor at this time will wait to ask TA "
   ]
  },
  {
   "cell_type": "code",
   "execution_count": null,
   "id": "c446c555",
   "metadata": {},
   "outputs": [],
   "source": [
    "# For cross validation\n",
    "clf_kbest = RandomForestClassifier(max_depth=5,\n",
    "                             min_samples_split=20,\n",
    "                             min_samples_leaf =20)\n",
    "cross_val_scores = cross_val_score(clf_kbest, X_train, y_train, cv=5)\n",
    "print(np.mean(cross_val_scores))\n",
    "\n",
    "### checking cross val "
   ]
  },
  {
   "cell_type": "code",
   "execution_count": 141,
   "id": "1d089c1b",
   "metadata": {},
   "outputs": [],
   "source": [
    "### VarianceThreshold"
   ]
  },
  {
   "cell_type": "code",
   "execution_count": 92,
   "id": "12dcba3f",
   "metadata": {},
   "outputs": [],
   "source": [
    "from sklearn.feature_selection import VarianceThreshold\n",
    "\n",
    "\n",
    "X = all_data.drop(['TARGET_B'], axis = 1)\n",
    "y = all_data['TARGET_B']"
   ]
  },
  {
   "cell_type": "code",
   "execution_count": 93,
   "id": "c023beec",
   "metadata": {},
   "outputs": [
    {
     "data": {
      "text/plain": [
       "0.08347900754160184"
      ]
     },
     "execution_count": 93,
     "metadata": {},
     "output_type": "execute_result"
    }
   ],
   "source": [
    "np.var(np.random.random(size=X.shape[1]))\n",
    "\n"
   ]
  },
  {
   "cell_type": "code",
   "execution_count": 126,
   "id": "06cd72bd",
   "metadata": {},
   "outputs": [],
   "source": [
    "X['low_variance'] = 1\n",
    "X['low_variance2'] = (np.random.random(size=X.shape[0]) > 0.5) * 1\n",
    "\n"
   ]
  },
  {
   "cell_type": "code",
   "execution_count": 127,
   "id": "d929e83a",
   "metadata": {},
   "outputs": [
    {
     "data": {
      "text/html": [
       "<div>\n",
       "<style scoped>\n",
       "    .dataframe tbody tr th:only-of-type {\n",
       "        vertical-align: middle;\n",
       "    }\n",
       "\n",
       "    .dataframe tbody tr th {\n",
       "        vertical-align: top;\n",
       "    }\n",
       "\n",
       "    .dataframe thead th {\n",
       "        text-align: right;\n",
       "    }\n",
       "</style>\n",
       "<table border=\"1\" class=\"dataframe\">\n",
       "  <thead>\n",
       "    <tr style=\"text-align: right;\">\n",
       "      <th></th>\n",
       "      <th>TCODE</th>\n",
       "      <th>AGE</th>\n",
       "      <th>INCOME</th>\n",
       "      <th>WEALTH1</th>\n",
       "      <th>HIT</th>\n",
       "      <th>MALEMILI</th>\n",
       "      <th>MALEVET</th>\n",
       "      <th>VIETVETS</th>\n",
       "      <th>WWIIVETS</th>\n",
       "      <th>LOCALGOV</th>\n",
       "      <th>...</th>\n",
       "      <th>MINRDATE_MM</th>\n",
       "      <th>MAXRDATE_YR</th>\n",
       "      <th>MAXRDATE_MM</th>\n",
       "      <th>LASTDATE_YR</th>\n",
       "      <th>LASTDATE_MM</th>\n",
       "      <th>FIRSTDATE_YR</th>\n",
       "      <th>FIRSTDATE_MM</th>\n",
       "      <th>TARGET_D</th>\n",
       "      <th>low_variance</th>\n",
       "      <th>low_variance2</th>\n",
       "    </tr>\n",
       "  </thead>\n",
       "  <tbody>\n",
       "    <tr>\n",
       "      <th>0</th>\n",
       "      <td>0</td>\n",
       "      <td>60.000000</td>\n",
       "      <td>5</td>\n",
       "      <td>9</td>\n",
       "      <td>0</td>\n",
       "      <td>0</td>\n",
       "      <td>39</td>\n",
       "      <td>34</td>\n",
       "      <td>18</td>\n",
       "      <td>10</td>\n",
       "      <td>...</td>\n",
       "      <td>8</td>\n",
       "      <td>94</td>\n",
       "      <td>2</td>\n",
       "      <td>95</td>\n",
       "      <td>12</td>\n",
       "      <td>89</td>\n",
       "      <td>11</td>\n",
       "      <td>0.0</td>\n",
       "      <td>1</td>\n",
       "      <td>0</td>\n",
       "    </tr>\n",
       "    <tr>\n",
       "      <th>1</th>\n",
       "      <td>1</td>\n",
       "      <td>46.000000</td>\n",
       "      <td>6</td>\n",
       "      <td>9</td>\n",
       "      <td>16</td>\n",
       "      <td>0</td>\n",
       "      <td>15</td>\n",
       "      <td>55</td>\n",
       "      <td>11</td>\n",
       "      <td>6</td>\n",
       "      <td>...</td>\n",
       "      <td>10</td>\n",
       "      <td>95</td>\n",
       "      <td>12</td>\n",
       "      <td>95</td>\n",
       "      <td>12</td>\n",
       "      <td>93</td>\n",
       "      <td>10</td>\n",
       "      <td>0.0</td>\n",
       "      <td>1</td>\n",
       "      <td>1</td>\n",
       "    </tr>\n",
       "    <tr>\n",
       "      <th>2</th>\n",
       "      <td>1</td>\n",
       "      <td>61.611649</td>\n",
       "      <td>3</td>\n",
       "      <td>1</td>\n",
       "      <td>2</td>\n",
       "      <td>0</td>\n",
       "      <td>20</td>\n",
       "      <td>29</td>\n",
       "      <td>33</td>\n",
       "      <td>6</td>\n",
       "      <td>...</td>\n",
       "      <td>11</td>\n",
       "      <td>92</td>\n",
       "      <td>7</td>\n",
       "      <td>95</td>\n",
       "      <td>12</td>\n",
       "      <td>90</td>\n",
       "      <td>1</td>\n",
       "      <td>0.0</td>\n",
       "      <td>1</td>\n",
       "      <td>0</td>\n",
       "    </tr>\n",
       "    <tr>\n",
       "      <th>3</th>\n",
       "      <td>0</td>\n",
       "      <td>70.000000</td>\n",
       "      <td>1</td>\n",
       "      <td>4</td>\n",
       "      <td>2</td>\n",
       "      <td>0</td>\n",
       "      <td>23</td>\n",
       "      <td>14</td>\n",
       "      <td>31</td>\n",
       "      <td>3</td>\n",
       "      <td>...</td>\n",
       "      <td>11</td>\n",
       "      <td>94</td>\n",
       "      <td>11</td>\n",
       "      <td>95</td>\n",
       "      <td>12</td>\n",
       "      <td>87</td>\n",
       "      <td>2</td>\n",
       "      <td>0.0</td>\n",
       "      <td>1</td>\n",
       "      <td>1</td>\n",
       "    </tr>\n",
       "    <tr>\n",
       "      <th>4</th>\n",
       "      <td>0</td>\n",
       "      <td>78.000000</td>\n",
       "      <td>3</td>\n",
       "      <td>2</td>\n",
       "      <td>60</td>\n",
       "      <td>1</td>\n",
       "      <td>28</td>\n",
       "      <td>9</td>\n",
       "      <td>53</td>\n",
       "      <td>26</td>\n",
       "      <td>...</td>\n",
       "      <td>10</td>\n",
       "      <td>96</td>\n",
       "      <td>1</td>\n",
       "      <td>96</td>\n",
       "      <td>1</td>\n",
       "      <td>79</td>\n",
       "      <td>3</td>\n",
       "      <td>0.0</td>\n",
       "      <td>1</td>\n",
       "      <td>0</td>\n",
       "    </tr>\n",
       "    <tr>\n",
       "      <th>...</th>\n",
       "      <td>...</td>\n",
       "      <td>...</td>\n",
       "      <td>...</td>\n",
       "      <td>...</td>\n",
       "      <td>...</td>\n",
       "      <td>...</td>\n",
       "      <td>...</td>\n",
       "      <td>...</td>\n",
       "      <td>...</td>\n",
       "      <td>...</td>\n",
       "      <td>...</td>\n",
       "      <td>...</td>\n",
       "      <td>...</td>\n",
       "      <td>...</td>\n",
       "      <td>...</td>\n",
       "      <td>...</td>\n",
       "      <td>...</td>\n",
       "      <td>...</td>\n",
       "      <td>...</td>\n",
       "      <td>...</td>\n",
       "      <td>...</td>\n",
       "    </tr>\n",
       "    <tr>\n",
       "      <th>95407</th>\n",
       "      <td>1</td>\n",
       "      <td>61.611649</td>\n",
       "      <td>5</td>\n",
       "      <td>9</td>\n",
       "      <td>0</td>\n",
       "      <td>14</td>\n",
       "      <td>36</td>\n",
       "      <td>47</td>\n",
       "      <td>11</td>\n",
       "      <td>7</td>\n",
       "      <td>...</td>\n",
       "      <td>2</td>\n",
       "      <td>96</td>\n",
       "      <td>2</td>\n",
       "      <td>96</td>\n",
       "      <td>2</td>\n",
       "      <td>96</td>\n",
       "      <td>2</td>\n",
       "      <td>0.0</td>\n",
       "      <td>1</td>\n",
       "      <td>1</td>\n",
       "    </tr>\n",
       "    <tr>\n",
       "      <th>95408</th>\n",
       "      <td>1</td>\n",
       "      <td>48.000000</td>\n",
       "      <td>7</td>\n",
       "      <td>9</td>\n",
       "      <td>1</td>\n",
       "      <td>0</td>\n",
       "      <td>31</td>\n",
       "      <td>43</td>\n",
       "      <td>19</td>\n",
       "      <td>4</td>\n",
       "      <td>...</td>\n",
       "      <td>3</td>\n",
       "      <td>96</td>\n",
       "      <td>3</td>\n",
       "      <td>96</td>\n",
       "      <td>3</td>\n",
       "      <td>96</td>\n",
       "      <td>3</td>\n",
       "      <td>0.0</td>\n",
       "      <td>1</td>\n",
       "      <td>0</td>\n",
       "    </tr>\n",
       "    <tr>\n",
       "      <th>95409</th>\n",
       "      <td>1</td>\n",
       "      <td>60.000000</td>\n",
       "      <td>5</td>\n",
       "      <td>9</td>\n",
       "      <td>0</td>\n",
       "      <td>0</td>\n",
       "      <td>18</td>\n",
       "      <td>46</td>\n",
       "      <td>20</td>\n",
       "      <td>7</td>\n",
       "      <td>...</td>\n",
       "      <td>3</td>\n",
       "      <td>95</td>\n",
       "      <td>1</td>\n",
       "      <td>96</td>\n",
       "      <td>10</td>\n",
       "      <td>94</td>\n",
       "      <td>10</td>\n",
       "      <td>0.0</td>\n",
       "      <td>1</td>\n",
       "      <td>1</td>\n",
       "    </tr>\n",
       "    <tr>\n",
       "      <th>95410</th>\n",
       "      <td>0</td>\n",
       "      <td>58.000000</td>\n",
       "      <td>7</td>\n",
       "      <td>9</td>\n",
       "      <td>0</td>\n",
       "      <td>0</td>\n",
       "      <td>28</td>\n",
       "      <td>35</td>\n",
       "      <td>20</td>\n",
       "      <td>9</td>\n",
       "      <td>...</td>\n",
       "      <td>11</td>\n",
       "      <td>96</td>\n",
       "      <td>8</td>\n",
       "      <td>97</td>\n",
       "      <td>1</td>\n",
       "      <td>86</td>\n",
       "      <td>12</td>\n",
       "      <td>18.0</td>\n",
       "      <td>1</td>\n",
       "      <td>1</td>\n",
       "    </tr>\n",
       "    <tr>\n",
       "      <th>95411</th>\n",
       "      <td>2</td>\n",
       "      <td>80.000000</td>\n",
       "      <td>5</td>\n",
       "      <td>8</td>\n",
       "      <td>3</td>\n",
       "      <td>1</td>\n",
       "      <td>33</td>\n",
       "      <td>22</td>\n",
       "      <td>27</td>\n",
       "      <td>8</td>\n",
       "      <td>...</td>\n",
       "      <td>12</td>\n",
       "      <td>93</td>\n",
       "      <td>12</td>\n",
       "      <td>96</td>\n",
       "      <td>12</td>\n",
       "      <td>88</td>\n",
       "      <td>3</td>\n",
       "      <td>0.0</td>\n",
       "      <td>1</td>\n",
       "      <td>1</td>\n",
       "    </tr>\n",
       "  </tbody>\n",
       "</table>\n",
       "<p>95412 rows × 340 columns</p>\n",
       "</div>"
      ],
      "text/plain": [
       "       TCODE        AGE  INCOME  WEALTH1  HIT  MALEMILI  MALEVET  VIETVETS  \\\n",
       "0          0  60.000000       5        9    0         0       39        34   \n",
       "1          1  46.000000       6        9   16         0       15        55   \n",
       "2          1  61.611649       3        1    2         0       20        29   \n",
       "3          0  70.000000       1        4    2         0       23        14   \n",
       "4          0  78.000000       3        2   60         1       28         9   \n",
       "...      ...        ...     ...      ...  ...       ...      ...       ...   \n",
       "95407      1  61.611649       5        9    0        14       36        47   \n",
       "95408      1  48.000000       7        9    1         0       31        43   \n",
       "95409      1  60.000000       5        9    0         0       18        46   \n",
       "95410      0  58.000000       7        9    0         0       28        35   \n",
       "95411      2  80.000000       5        8    3         1       33        22   \n",
       "\n",
       "       WWIIVETS  LOCALGOV  ...  MINRDATE_MM  MAXRDATE_YR  MAXRDATE_MM  \\\n",
       "0            18        10  ...            8           94            2   \n",
       "1            11         6  ...           10           95           12   \n",
       "2            33         6  ...           11           92            7   \n",
       "3            31         3  ...           11           94           11   \n",
       "4            53        26  ...           10           96            1   \n",
       "...         ...       ...  ...          ...          ...          ...   \n",
       "95407        11         7  ...            2           96            2   \n",
       "95408        19         4  ...            3           96            3   \n",
       "95409        20         7  ...            3           95            1   \n",
       "95410        20         9  ...           11           96            8   \n",
       "95411        27         8  ...           12           93           12   \n",
       "\n",
       "       LASTDATE_YR  LASTDATE_MM  FIRSTDATE_YR  FIRSTDATE_MM  TARGET_D  \\\n",
       "0               95           12            89            11       0.0   \n",
       "1               95           12            93            10       0.0   \n",
       "2               95           12            90             1       0.0   \n",
       "3               95           12            87             2       0.0   \n",
       "4               96            1            79             3       0.0   \n",
       "...            ...          ...           ...           ...       ...   \n",
       "95407           96            2            96             2       0.0   \n",
       "95408           96            3            96             3       0.0   \n",
       "95409           96           10            94            10       0.0   \n",
       "95410           97            1            86            12      18.0   \n",
       "95411           96           12            88             3       0.0   \n",
       "\n",
       "       low_variance  low_variance2  \n",
       "0                 1              0  \n",
       "1                 1              1  \n",
       "2                 1              0  \n",
       "3                 1              1  \n",
       "4                 1              0  \n",
       "...             ...            ...  \n",
       "95407             1              1  \n",
       "95408             1              0  \n",
       "95409             1              1  \n",
       "95410             1              1  \n",
       "95411             1              1  \n",
       "\n",
       "[95412 rows x 340 columns]"
      ]
     },
     "execution_count": 127,
     "metadata": {},
     "output_type": "execute_result"
    }
   ],
   "source": [
    "X"
   ]
  },
  {
   "cell_type": "code",
   "execution_count": 130,
   "id": "a516c47c",
   "metadata": {},
   "outputs": [],
   "source": [
    "X_num = X.select_dtypes(np.number)\n",
    "X_cat = X.select_dtypes(object)\n",
    "\n"
   ]
  },
  {
   "cell_type": "code",
   "execution_count": 132,
   "id": "da6cef0b",
   "metadata": {},
   "outputs": [
    {
     "name": "stderr",
     "output_type": "stream",
     "text": [
      "C:\\Users\\adyto\\anaconda3\\lib\\site-packages\\sklearn\\preprocessing\\_encoders.py:170: UserWarning: Found unknown categories in columns [11, 12, 14] during transform. These unknown categories will be encoded as all zeros\n",
      "  warnings.warn(\n",
      "C:\\Users\\adyto\\anaconda3\\lib\\site-packages\\sklearn\\preprocessing\\_encoders.py:170: UserWarning: Found unknown categories in columns [11, 12, 14] during transform. These unknown categories will be encoded as all zeros\n",
      "  warnings.warn(\n"
     ]
    }
   ],
   "source": [
    "encoder = OneHotEncoder(drop='first', handle_unknown = 'ignore').fit(X_train_cat)\n",
    "all_columns = encoder.get_feature_names_out(input_features=X_cat.columns)\n",
    "X_train_cat_encode = pd.DataFrame(encoder.transform(X_cat).toarray(), columns=all_columns)\n",
    "X_test_cat_encode = pd.DataFrame(encoder.transform(X_cat).toarray(), columns=all_columns)"
   ]
  },
  {
   "cell_type": "code",
   "execution_count": 133,
   "id": "ca24de11",
   "metadata": {},
   "outputs": [],
   "source": [
    "X_test = pd.concat((X_num,X_test_cat_encode),axis=1)\n"
   ]
  },
  {
   "cell_type": "code",
   "execution_count": 128,
   "id": "ae09101d",
   "metadata": {},
   "outputs": [],
   "source": [
    "variance_threshold = 0.1\n",
    "selection = VarianceThreshold(threshold=variance_threshold)\n",
    "\n"
   ]
  },
  {
   "cell_type": "code",
   "execution_count": 135,
   "id": "290874d6",
   "metadata": {},
   "outputs": [
    {
     "data": {
      "text/plain": [
       "VarianceThreshold(threshold=0.1)"
      ]
     },
     "execution_count": 135,
     "metadata": {},
     "output_type": "execute_result"
    }
   ],
   "source": [
    "selection.fit(X_test)\n",
    "\n",
    "\n"
   ]
  },
  {
   "cell_type": "code",
   "execution_count": 139,
   "id": "6b5a539c",
   "metadata": {},
   "outputs": [
    {
     "data": {
      "image/png": "[encoded data removed]",
      "text/plain": [
       "<Figure size 640x480 with 1 Axes>"
      ]
     },
     "metadata": {},
     "output_type": "display_data"
    }
   ],
   "source": [
    "ax = pd.Series(selection.variances_, index=X_test.columns).plot(kind='bar', logy=True);\n",
    "ax.axhline(variance_threshold, ls='dotted', c='r');"
   ]
  },
  {
   "cell_type": "code",
   "execution_count": 140,
   "id": "fb9fd9c5",
   "metadata": {},
   "outputs": [
    {
     "data": {
      "text/html": [
       "<div>\n",
       "<style scoped>\n",
       "    .dataframe tbody tr th:only-of-type {\n",
       "        vertical-align: middle;\n",
       "    }\n",
       "\n",
       "    .dataframe tbody tr th {\n",
       "        vertical-align: top;\n",
       "    }\n",
       "\n",
       "    .dataframe thead th {\n",
       "        text-align: right;\n",
       "    }\n",
       "</style>\n",
       "<table border=\"1\" class=\"dataframe\">\n",
       "  <thead>\n",
       "    <tr style=\"text-align: right;\">\n",
       "      <th></th>\n",
       "      <th>TCODE</th>\n",
       "      <th>AGE</th>\n",
       "      <th>INCOME</th>\n",
       "      <th>WEALTH1</th>\n",
       "      <th>HIT</th>\n",
       "      <th>MALEMILI</th>\n",
       "      <th>MALEVET</th>\n",
       "      <th>VIETVETS</th>\n",
       "      <th>WWIIVETS</th>\n",
       "      <th>LOCALGOV</th>\n",
       "      <th>...</th>\n",
       "      <th>MAXRDATE_MM_12</th>\n",
       "      <th>LASTDATE_YR_96</th>\n",
       "      <th>LASTDATE_MM_2</th>\n",
       "      <th>LASTDATE_MM_3</th>\n",
       "      <th>LASTDATE_MM_12</th>\n",
       "      <th>FIRSTDATE_YR_94</th>\n",
       "      <th>FIRSTDATE_YR_95</th>\n",
       "      <th>FIRSTDATE_MM_2</th>\n",
       "      <th>FIRSTDATE_MM_9</th>\n",
       "      <th>FIRSTDATE_MM_10</th>\n",
       "    </tr>\n",
       "  </thead>\n",
       "  <tbody>\n",
       "    <tr>\n",
       "      <th>0</th>\n",
       "      <td>0.0</td>\n",
       "      <td>60.000000</td>\n",
       "      <td>5.0</td>\n",
       "      <td>9.0</td>\n",
       "      <td>0.0</td>\n",
       "      <td>0.0</td>\n",
       "      <td>39.0</td>\n",
       "      <td>34.0</td>\n",
       "      <td>18.0</td>\n",
       "      <td>10.0</td>\n",
       "      <td>...</td>\n",
       "      <td>0.0</td>\n",
       "      <td>0.0</td>\n",
       "      <td>0.0</td>\n",
       "      <td>0.0</td>\n",
       "      <td>1.0</td>\n",
       "      <td>0.0</td>\n",
       "      <td>0.0</td>\n",
       "      <td>0.0</td>\n",
       "      <td>0.0</td>\n",
       "      <td>0.0</td>\n",
       "    </tr>\n",
       "    <tr>\n",
       "      <th>1</th>\n",
       "      <td>1.0</td>\n",
       "      <td>46.000000</td>\n",
       "      <td>6.0</td>\n",
       "      <td>9.0</td>\n",
       "      <td>16.0</td>\n",
       "      <td>0.0</td>\n",
       "      <td>15.0</td>\n",
       "      <td>55.0</td>\n",
       "      <td>11.0</td>\n",
       "      <td>6.0</td>\n",
       "      <td>...</td>\n",
       "      <td>1.0</td>\n",
       "      <td>0.0</td>\n",
       "      <td>0.0</td>\n",
       "      <td>0.0</td>\n",
       "      <td>1.0</td>\n",
       "      <td>0.0</td>\n",
       "      <td>0.0</td>\n",
       "      <td>0.0</td>\n",
       "      <td>0.0</td>\n",
       "      <td>1.0</td>\n",
       "    </tr>\n",
       "    <tr>\n",
       "      <th>2</th>\n",
       "      <td>1.0</td>\n",
       "      <td>61.611649</td>\n",
       "      <td>3.0</td>\n",
       "      <td>1.0</td>\n",
       "      <td>2.0</td>\n",
       "      <td>0.0</td>\n",
       "      <td>20.0</td>\n",
       "      <td>29.0</td>\n",
       "      <td>33.0</td>\n",
       "      <td>6.0</td>\n",
       "      <td>...</td>\n",
       "      <td>0.0</td>\n",
       "      <td>0.0</td>\n",
       "      <td>0.0</td>\n",
       "      <td>0.0</td>\n",
       "      <td>1.0</td>\n",
       "      <td>0.0</td>\n",
       "      <td>0.0</td>\n",
       "      <td>0.0</td>\n",
       "      <td>0.0</td>\n",
       "      <td>0.0</td>\n",
       "    </tr>\n",
       "    <tr>\n",
       "      <th>3</th>\n",
       "      <td>0.0</td>\n",
       "      <td>70.000000</td>\n",
       "      <td>1.0</td>\n",
       "      <td>4.0</td>\n",
       "      <td>2.0</td>\n",
       "      <td>0.0</td>\n",
       "      <td>23.0</td>\n",
       "      <td>14.0</td>\n",
       "      <td>31.0</td>\n",
       "      <td>3.0</td>\n",
       "      <td>...</td>\n",
       "      <td>0.0</td>\n",
       "      <td>0.0</td>\n",
       "      <td>0.0</td>\n",
       "      <td>0.0</td>\n",
       "      <td>1.0</td>\n",
       "      <td>0.0</td>\n",
       "      <td>0.0</td>\n",
       "      <td>1.0</td>\n",
       "      <td>0.0</td>\n",
       "      <td>0.0</td>\n",
       "    </tr>\n",
       "    <tr>\n",
       "      <th>4</th>\n",
       "      <td>0.0</td>\n",
       "      <td>78.000000</td>\n",
       "      <td>3.0</td>\n",
       "      <td>2.0</td>\n",
       "      <td>60.0</td>\n",
       "      <td>1.0</td>\n",
       "      <td>28.0</td>\n",
       "      <td>9.0</td>\n",
       "      <td>53.0</td>\n",
       "      <td>26.0</td>\n",
       "      <td>...</td>\n",
       "      <td>0.0</td>\n",
       "      <td>1.0</td>\n",
       "      <td>0.0</td>\n",
       "      <td>0.0</td>\n",
       "      <td>0.0</td>\n",
       "      <td>0.0</td>\n",
       "      <td>0.0</td>\n",
       "      <td>0.0</td>\n",
       "      <td>0.0</td>\n",
       "      <td>0.0</td>\n",
       "    </tr>\n",
       "  </tbody>\n",
       "</table>\n",
       "<p>5 rows × 355 columns</p>\n",
       "</div>"
      ],
      "text/plain": [
       "   TCODE        AGE  INCOME  WEALTH1   HIT  MALEMILI  MALEVET  VIETVETS  \\\n",
       "0    0.0  60.000000     5.0      9.0   0.0       0.0     39.0      34.0   \n",
       "1    1.0  46.000000     6.0      9.0  16.0       0.0     15.0      55.0   \n",
       "2    1.0  61.611649     3.0      1.0   2.0       0.0     20.0      29.0   \n",
       "3    0.0  70.000000     1.0      4.0   2.0       0.0     23.0      14.0   \n",
       "4    0.0  78.000000     3.0      2.0  60.0       1.0     28.0       9.0   \n",
       "\n",
       "   WWIIVETS  LOCALGOV  ...  MAXRDATE_MM_12  LASTDATE_YR_96  LASTDATE_MM_2  \\\n",
       "0      18.0      10.0  ...             0.0             0.0            0.0   \n",
       "1      11.0       6.0  ...             1.0             0.0            0.0   \n",
       "2      33.0       6.0  ...             0.0             0.0            0.0   \n",
       "3      31.0       3.0  ...             0.0             0.0            0.0   \n",
       "4      53.0      26.0  ...             0.0             1.0            0.0   \n",
       "\n",
       "   LASTDATE_MM_3  LASTDATE_MM_12  FIRSTDATE_YR_94  FIRSTDATE_YR_95  \\\n",
       "0            0.0             1.0              0.0              0.0   \n",
       "1            0.0             1.0              0.0              0.0   \n",
       "2            0.0             1.0              0.0              0.0   \n",
       "3            0.0             1.0              0.0              0.0   \n",
       "4            0.0             0.0              0.0              0.0   \n",
       "\n",
       "   FIRSTDATE_MM_2  FIRSTDATE_MM_9  FIRSTDATE_MM_10  \n",
       "0             0.0             0.0              0.0  \n",
       "1             0.0             0.0              1.0  \n",
       "2             0.0             0.0              0.0  \n",
       "3             1.0             0.0              0.0  \n",
       "4             0.0             0.0              0.0  \n",
       "\n",
       "[5 rows x 355 columns]"
      ]
     },
     "execution_count": 140,
     "metadata": {},
     "output_type": "execute_result"
    }
   ],
   "source": [
    "X_selected = pd.DataFrame(selection.transform(X_test), columns=X_test.columns[selection.get_support()])\n",
    "X_selected.head()"
   ]
  },
  {
   "cell_type": "code",
   "execution_count": 166,
   "id": "8e565629",
   "metadata": {},
   "outputs": [],
   "source": [
    "X_selected_list=X_selected.columns"
   ]
  },
  {
   "cell_type": "markdown",
   "id": "94045af9",
   "metadata": {},
   "source": [
    "# final Lab"
   ]
  },
  {
   "cell_type": "code",
   "execution_count": 150,
   "id": "42fd1947",
   "metadata": {},
   "outputs": [],
   "source": [
    "donated = all_data[all_data['TARGET_B'] == 1]\n"
   ]
  },
  {
   "cell_type": "code",
   "execution_count": 151,
   "id": "71efabd4",
   "metadata": {},
   "outputs": [],
   "source": [
    "donated_num = donated.select_dtypes(np.number)\n",
    "donated_cat = donated.select_dtypes(object)\n",
    "\n",
    "##sparate data "
   ]
  },
  {
   "cell_type": "code",
   "execution_count": 152,
   "id": "eb43165a",
   "metadata": {},
   "outputs": [],
   "source": [
    "donated_num = donated_numerical.drop(['TARGET_B', 'TARGET_D'], axis = 1)\n",
    "\n",
    "## drop TARGET_B,TARGET_D"
   ]
  },
  {
   "cell_type": "code",
   "execution_count": 146,
   "id": "9a7d0b4f",
   "metadata": {},
   "outputs": [],
   "source": [
    "## Apply RFE for feature selection onyly on Num"
   ]
  },
  {
   "cell_type": "code",
   "execution_count": 153,
   "id": "1be6df2f",
   "metadata": {},
   "outputs": [
    {
     "data": {
      "text/plain": [
       "RFE(estimator=LinearRegression(), n_features_to_select=25, verbose=False)"
      ]
     },
     "execution_count": 153,
     "metadata": {},
     "output_type": "execute_result"
    }
   ],
   "source": [
    "X = donated_num\n",
    "y = donated['TARGET_D']\n",
    "\n",
    "from sklearn.feature_selection import RFE\n",
    "from sklearn import linear_model\n",
    "lm = linear_model.LinearRegression()\n",
    "rfe = RFE(lm, n_features_to_select=25, verbose=False)\n",
    "rfe.fit(X, y)"
   ]
  },
  {
   "cell_type": "code",
   "execution_count": 154,
   "id": "5a4ec6d9",
   "metadata": {},
   "outputs": [
    {
     "data": {
      "text/html": [
       "<div>\n",
       "<style scoped>\n",
       "    .dataframe tbody tr th:only-of-type {\n",
       "        vertical-align: middle;\n",
       "    }\n",
       "\n",
       "    .dataframe tbody tr th {\n",
       "        vertical-align: top;\n",
       "    }\n",
       "\n",
       "    .dataframe thead th {\n",
       "        text-align: right;\n",
       "    }\n",
       "</style>\n",
       "<table border=\"1\" class=\"dataframe\">\n",
       "  <thead>\n",
       "    <tr style=\"text-align: right;\">\n",
       "      <th></th>\n",
       "      <th>Rank</th>\n",
       "      <th>Column_name</th>\n",
       "    </tr>\n",
       "  </thead>\n",
       "  <tbody>\n",
       "    <tr>\n",
       "      <th>16</th>\n",
       "      <td>1</td>\n",
       "      <td>POP90C1</td>\n",
       "    </tr>\n",
       "    <tr>\n",
       "      <th>17</th>\n",
       "      <td>1</td>\n",
       "      <td>POP90C2</td>\n",
       "    </tr>\n",
       "    <tr>\n",
       "      <th>18</th>\n",
       "      <td>1</td>\n",
       "      <td>POP90C3</td>\n",
       "    </tr>\n",
       "    <tr>\n",
       "      <th>19</th>\n",
       "      <td>24</td>\n",
       "      <td>POP90C4</td>\n",
       "    </tr>\n",
       "    <tr>\n",
       "      <th>20</th>\n",
       "      <td>23</td>\n",
       "      <td>POP90C5</td>\n",
       "    </tr>\n",
       "    <tr>\n",
       "      <th>21</th>\n",
       "      <td>1</td>\n",
       "      <td>ETH1</td>\n",
       "    </tr>\n",
       "    <tr>\n",
       "      <th>22</th>\n",
       "      <td>1</td>\n",
       "      <td>ETH2</td>\n",
       "    </tr>\n",
       "    <tr>\n",
       "      <th>25</th>\n",
       "      <td>1</td>\n",
       "      <td>ETH5</td>\n",
       "    </tr>\n",
       "    <tr>\n",
       "      <th>33</th>\n",
       "      <td>1</td>\n",
       "      <td>ETH13</td>\n",
       "    </tr>\n",
       "    <tr>\n",
       "      <th>34</th>\n",
       "      <td>1</td>\n",
       "      <td>ETH14</td>\n",
       "    </tr>\n",
       "    <tr>\n",
       "      <th>35</th>\n",
       "      <td>1</td>\n",
       "      <td>ETH15</td>\n",
       "    </tr>\n",
       "    <tr>\n",
       "      <th>36</th>\n",
       "      <td>1</td>\n",
       "      <td>ETH16</td>\n",
       "    </tr>\n",
       "    <tr>\n",
       "      <th>63</th>\n",
       "      <td>11</td>\n",
       "      <td>HHN2</td>\n",
       "    </tr>\n",
       "    <tr>\n",
       "      <th>64</th>\n",
       "      <td>12</td>\n",
       "      <td>HHN3</td>\n",
       "    </tr>\n",
       "    <tr>\n",
       "      <th>80</th>\n",
       "      <td>9</td>\n",
       "      <td>DW7</td>\n",
       "    </tr>\n",
       "    <tr>\n",
       "      <th>81</th>\n",
       "      <td>8</td>\n",
       "      <td>DW8</td>\n",
       "    </tr>\n",
       "    <tr>\n",
       "      <th>82</th>\n",
       "      <td>7</td>\n",
       "      <td>DW9</td>\n",
       "    </tr>\n",
       "    <tr>\n",
       "      <th>87</th>\n",
       "      <td>17</td>\n",
       "      <td>HU1</td>\n",
       "    </tr>\n",
       "    <tr>\n",
       "      <th>88</th>\n",
       "      <td>5</td>\n",
       "      <td>HU2</td>\n",
       "    </tr>\n",
       "    <tr>\n",
       "      <th>92</th>\n",
       "      <td>1</td>\n",
       "      <td>HHD1</td>\n",
       "    </tr>\n",
       "    <tr>\n",
       "      <th>93</th>\n",
       "      <td>10</td>\n",
       "      <td>HHD2</td>\n",
       "    </tr>\n",
       "    <tr>\n",
       "      <th>94</th>\n",
       "      <td>20</td>\n",
       "      <td>HHD3</td>\n",
       "    </tr>\n",
       "    <tr>\n",
       "      <th>95</th>\n",
       "      <td>1</td>\n",
       "      <td>HHD4</td>\n",
       "    </tr>\n",
       "    <tr>\n",
       "      <th>97</th>\n",
       "      <td>25</td>\n",
       "      <td>HHD6</td>\n",
       "    </tr>\n",
       "    <tr>\n",
       "      <th>98</th>\n",
       "      <td>1</td>\n",
       "      <td>HHD7</td>\n",
       "    </tr>\n",
       "    <tr>\n",
       "      <th>99</th>\n",
       "      <td>15</td>\n",
       "      <td>HHD8</td>\n",
       "    </tr>\n",
       "    <tr>\n",
       "      <th>100</th>\n",
       "      <td>16</td>\n",
       "      <td>HHD9</td>\n",
       "    </tr>\n",
       "    <tr>\n",
       "      <th>101</th>\n",
       "      <td>18</td>\n",
       "      <td>HHD10</td>\n",
       "    </tr>\n",
       "    <tr>\n",
       "      <th>102</th>\n",
       "      <td>19</td>\n",
       "      <td>HHD11</td>\n",
       "    </tr>\n",
       "    <tr>\n",
       "      <th>103</th>\n",
       "      <td>13</td>\n",
       "      <td>HHD12</td>\n",
       "    </tr>\n",
       "    <tr>\n",
       "      <th>104</th>\n",
       "      <td>1</td>\n",
       "      <td>ETHC1</td>\n",
       "    </tr>\n",
       "    <tr>\n",
       "      <th>105</th>\n",
       "      <td>1</td>\n",
       "      <td>ETHC2</td>\n",
       "    </tr>\n",
       "    <tr>\n",
       "      <th>106</th>\n",
       "      <td>1</td>\n",
       "      <td>ETHC3</td>\n",
       "    </tr>\n",
       "    <tr>\n",
       "      <th>107</th>\n",
       "      <td>1</td>\n",
       "      <td>ETHC4</td>\n",
       "    </tr>\n",
       "    <tr>\n",
       "      <th>108</th>\n",
       "      <td>1</td>\n",
       "      <td>ETHC5</td>\n",
       "    </tr>\n",
       "    <tr>\n",
       "      <th>109</th>\n",
       "      <td>1</td>\n",
       "      <td>ETHC6</td>\n",
       "    </tr>\n",
       "    <tr>\n",
       "      <th>125</th>\n",
       "      <td>6</td>\n",
       "      <td>HUPA4</td>\n",
       "    </tr>\n",
       "    <tr>\n",
       "      <th>126</th>\n",
       "      <td>4</td>\n",
       "      <td>HUPA5</td>\n",
       "    </tr>\n",
       "    <tr>\n",
       "      <th>127</th>\n",
       "      <td>3</td>\n",
       "      <td>HUPA6</td>\n",
       "    </tr>\n",
       "    <tr>\n",
       "      <th>128</th>\n",
       "      <td>2</td>\n",
       "      <td>HUPA7</td>\n",
       "    </tr>\n",
       "    <tr>\n",
       "      <th>163</th>\n",
       "      <td>1</td>\n",
       "      <td>MC1</td>\n",
       "    </tr>\n",
       "    <tr>\n",
       "      <th>164</th>\n",
       "      <td>1</td>\n",
       "      <td>MC2</td>\n",
       "    </tr>\n",
       "    <tr>\n",
       "      <th>172</th>\n",
       "      <td>21</td>\n",
       "      <td>TPE7</td>\n",
       "    </tr>\n",
       "    <tr>\n",
       "      <th>264</th>\n",
       "      <td>14</td>\n",
       "      <td>ANC15</td>\n",
       "    </tr>\n",
       "    <tr>\n",
       "      <th>288</th>\n",
       "      <td>22</td>\n",
       "      <td>HC15</td>\n",
       "    </tr>\n",
       "    <tr>\n",
       "      <th>306</th>\n",
       "      <td>1</td>\n",
       "      <td>MINRAMNT</td>\n",
       "    </tr>\n",
       "    <tr>\n",
       "      <th>308</th>\n",
       "      <td>1</td>\n",
       "      <td>LASTGIFT</td>\n",
       "    </tr>\n",
       "    <tr>\n",
       "      <th>310</th>\n",
       "      <td>1</td>\n",
       "      <td>AVGGIFT</td>\n",
       "    </tr>\n",
       "    <tr>\n",
       "      <th>313</th>\n",
       "      <td>1</td>\n",
       "      <td>RFA_2F</td>\n",
       "    </tr>\n",
       "  </tbody>\n",
       "</table>\n",
       "</div>"
      ],
      "text/plain": [
       "     Rank Column_name\n",
       "16      1     POP90C1\n",
       "17      1     POP90C2\n",
       "18      1     POP90C3\n",
       "19     24     POP90C4\n",
       "20     23     POP90C5\n",
       "21      1        ETH1\n",
       "22      1        ETH2\n",
       "25      1        ETH5\n",
       "33      1       ETH13\n",
       "34      1       ETH14\n",
       "35      1       ETH15\n",
       "36      1       ETH16\n",
       "63     11        HHN2\n",
       "64     12        HHN3\n",
       "80      9         DW7\n",
       "81      8         DW8\n",
       "82      7         DW9\n",
       "87     17         HU1\n",
       "88      5         HU2\n",
       "92      1        HHD1\n",
       "93     10        HHD2\n",
       "94     20        HHD3\n",
       "95      1        HHD4\n",
       "97     25        HHD6\n",
       "98      1        HHD7\n",
       "99     15        HHD8\n",
       "100    16        HHD9\n",
       "101    18       HHD10\n",
       "102    19       HHD11\n",
       "103    13       HHD12\n",
       "104     1       ETHC1\n",
       "105     1       ETHC2\n",
       "106     1       ETHC3\n",
       "107     1       ETHC4\n",
       "108     1       ETHC5\n",
       "109     1       ETHC6\n",
       "125     6       HUPA4\n",
       "126     4       HUPA5\n",
       "127     3       HUPA6\n",
       "128     2       HUPA7\n",
       "163     1         MC1\n",
       "164     1         MC2\n",
       "172    21        TPE7\n",
       "264    14       ANC15\n",
       "288    22        HC15\n",
       "306     1    MINRAMNT\n",
       "308     1    LASTGIFT\n",
       "310     1     AVGGIFT\n",
       "313     1      RFA_2F"
      ]
     },
     "execution_count": 154,
     "metadata": {},
     "output_type": "execute_result"
    }
   ],
   "source": [
    "# checking labels the top features as 1 \n",
    "df = pd.DataFrame(data = rfe.ranking_, columns=['Rank'])\n",
    "df['Column_name'] = pd.DataFrame(donated_num).columns\n",
    "df[df['Rank']<26]\n",
    "#df['Rank'].value_counts()"
   ]
  },
  {
   "cell_type": "code",
   "execution_count": 155,
   "id": "7f87b909",
   "metadata": {},
   "outputs": [],
   "source": [
    "numerical_features_selected = ['POP90C1', 'ETH1', 'HHN2', 'DW9', 'HU2', 'HHD1', 'ETHC1', 'HUPA7', 'MC1', 'TPE7', 'ANC15', \n",
    "                              'HC15', 'MINRAMNT', 'LASTGIFT', 'AVGGIFT', 'RFA_2F']\n",
    "\n",
    "## taking every column that does not have dup start "
   ]
  },
  {
   "cell_type": "code",
   "execution_count": 157,
   "id": "bf797f14",
   "metadata": {},
   "outputs": [],
   "source": [
    "donated_num_feat_RFE = donated_num[numerical_features_selected].copy()\n",
    "## selecting the wanted columns "
   ]
  },
  {
   "cell_type": "code",
   "execution_count": 158,
   "id": "69babd71",
   "metadata": {},
   "outputs": [
    {
     "data": {
      "text/html": [
       "<div>\n",
       "<style scoped>\n",
       "    .dataframe tbody tr th:only-of-type {\n",
       "        vertical-align: middle;\n",
       "    }\n",
       "\n",
       "    .dataframe tbody tr th {\n",
       "        vertical-align: top;\n",
       "    }\n",
       "\n",
       "    .dataframe thead th {\n",
       "        text-align: right;\n",
       "    }\n",
       "</style>\n",
       "<table border=\"1\" class=\"dataframe\">\n",
       "  <thead>\n",
       "    <tr style=\"text-align: right;\">\n",
       "      <th></th>\n",
       "      <th>POP90C1</th>\n",
       "      <th>ETH1</th>\n",
       "      <th>HHN2</th>\n",
       "      <th>DW9</th>\n",
       "      <th>HU2</th>\n",
       "      <th>HHD1</th>\n",
       "      <th>ETHC1</th>\n",
       "      <th>HUPA7</th>\n",
       "      <th>MC1</th>\n",
       "      <th>TPE7</th>\n",
       "      <th>ANC15</th>\n",
       "      <th>HC15</th>\n",
       "      <th>MINRAMNT</th>\n",
       "      <th>LASTGIFT</th>\n",
       "      <th>AVGGIFT</th>\n",
       "      <th>RFA_2F</th>\n",
       "    </tr>\n",
       "  </thead>\n",
       "  <tbody>\n",
       "    <tr>\n",
       "      <th>20</th>\n",
       "      <td>99</td>\n",
       "      <td>97</td>\n",
       "      <td>30</td>\n",
       "      <td>0</td>\n",
       "      <td>12</td>\n",
       "      <td>42</td>\n",
       "      <td>21</td>\n",
       "      <td>0</td>\n",
       "      <td>61</td>\n",
       "      <td>0</td>\n",
       "      <td>0</td>\n",
       "      <td>0</td>\n",
       "      <td>2.00</td>\n",
       "      <td>5.0</td>\n",
       "      <td>4.066667</td>\n",
       "      <td>3</td>\n",
       "    </tr>\n",
       "    <tr>\n",
       "      <th>30</th>\n",
       "      <td>99</td>\n",
       "      <td>94</td>\n",
       "      <td>23</td>\n",
       "      <td>0</td>\n",
       "      <td>3</td>\n",
       "      <td>63</td>\n",
       "      <td>30</td>\n",
       "      <td>0</td>\n",
       "      <td>74</td>\n",
       "      <td>0</td>\n",
       "      <td>0</td>\n",
       "      <td>0</td>\n",
       "      <td>2.00</td>\n",
       "      <td>7.0</td>\n",
       "      <td>6.181818</td>\n",
       "      <td>3</td>\n",
       "    </tr>\n",
       "    <tr>\n",
       "      <th>45</th>\n",
       "      <td>89</td>\n",
       "      <td>99</td>\n",
       "      <td>43</td>\n",
       "      <td>0</td>\n",
       "      <td>4</td>\n",
       "      <td>27</td>\n",
       "      <td>16</td>\n",
       "      <td>0</td>\n",
       "      <td>61</td>\n",
       "      <td>0</td>\n",
       "      <td>1</td>\n",
       "      <td>0</td>\n",
       "      <td>3.00</td>\n",
       "      <td>5.0</td>\n",
       "      <td>4.857143</td>\n",
       "      <td>3</td>\n",
       "    </tr>\n",
       "    <tr>\n",
       "      <th>78</th>\n",
       "      <td>99</td>\n",
       "      <td>97</td>\n",
       "      <td>44</td>\n",
       "      <td>0</td>\n",
       "      <td>37</td>\n",
       "      <td>18</td>\n",
       "      <td>11</td>\n",
       "      <td>0</td>\n",
       "      <td>55</td>\n",
       "      <td>0</td>\n",
       "      <td>0</td>\n",
       "      <td>0</td>\n",
       "      <td>5.00</td>\n",
       "      <td>10.0</td>\n",
       "      <td>11.000000</td>\n",
       "      <td>2</td>\n",
       "    </tr>\n",
       "    <tr>\n",
       "      <th>93</th>\n",
       "      <td>99</td>\n",
       "      <td>7</td>\n",
       "      <td>21</td>\n",
       "      <td>0</td>\n",
       "      <td>11</td>\n",
       "      <td>55</td>\n",
       "      <td>0</td>\n",
       "      <td>0</td>\n",
       "      <td>39</td>\n",
       "      <td>0</td>\n",
       "      <td>0</td>\n",
       "      <td>0</td>\n",
       "      <td>5.00</td>\n",
       "      <td>12.0</td>\n",
       "      <td>9.400000</td>\n",
       "      <td>3</td>\n",
       "    </tr>\n",
       "    <tr>\n",
       "      <th>...</th>\n",
       "      <td>...</td>\n",
       "      <td>...</td>\n",
       "      <td>...</td>\n",
       "      <td>...</td>\n",
       "      <td>...</td>\n",
       "      <td>...</td>\n",
       "      <td>...</td>\n",
       "      <td>...</td>\n",
       "      <td>...</td>\n",
       "      <td>...</td>\n",
       "      <td>...</td>\n",
       "      <td>...</td>\n",
       "      <td>...</td>\n",
       "      <td>...</td>\n",
       "      <td>...</td>\n",
       "      <td>...</td>\n",
       "    </tr>\n",
       "    <tr>\n",
       "      <th>95298</th>\n",
       "      <td>0</td>\n",
       "      <td>94</td>\n",
       "      <td>37</td>\n",
       "      <td>0</td>\n",
       "      <td>43</td>\n",
       "      <td>28</td>\n",
       "      <td>18</td>\n",
       "      <td>0</td>\n",
       "      <td>60</td>\n",
       "      <td>0</td>\n",
       "      <td>0</td>\n",
       "      <td>0</td>\n",
       "      <td>0.07</td>\n",
       "      <td>17.0</td>\n",
       "      <td>7.935667</td>\n",
       "      <td>1</td>\n",
       "    </tr>\n",
       "    <tr>\n",
       "      <th>95309</th>\n",
       "      <td>99</td>\n",
       "      <td>90</td>\n",
       "      <td>36</td>\n",
       "      <td>1</td>\n",
       "      <td>28</td>\n",
       "      <td>42</td>\n",
       "      <td>22</td>\n",
       "      <td>0</td>\n",
       "      <td>86</td>\n",
       "      <td>0</td>\n",
       "      <td>0</td>\n",
       "      <td>0</td>\n",
       "      <td>5.00</td>\n",
       "      <td>15.0</td>\n",
       "      <td>11.666667</td>\n",
       "      <td>1</td>\n",
       "    </tr>\n",
       "    <tr>\n",
       "      <th>95398</th>\n",
       "      <td>99</td>\n",
       "      <td>85</td>\n",
       "      <td>33</td>\n",
       "      <td>0</td>\n",
       "      <td>25</td>\n",
       "      <td>29</td>\n",
       "      <td>14</td>\n",
       "      <td>0</td>\n",
       "      <td>32</td>\n",
       "      <td>0</td>\n",
       "      <td>0</td>\n",
       "      <td>0</td>\n",
       "      <td>5.00</td>\n",
       "      <td>20.0</td>\n",
       "      <td>14.400000</td>\n",
       "      <td>3</td>\n",
       "    </tr>\n",
       "    <tr>\n",
       "      <th>95403</th>\n",
       "      <td>0</td>\n",
       "      <td>99</td>\n",
       "      <td>30</td>\n",
       "      <td>0</td>\n",
       "      <td>21</td>\n",
       "      <td>45</td>\n",
       "      <td>28</td>\n",
       "      <td>2</td>\n",
       "      <td>38</td>\n",
       "      <td>0</td>\n",
       "      <td>0</td>\n",
       "      <td>0</td>\n",
       "      <td>3.00</td>\n",
       "      <td>20.0</td>\n",
       "      <td>11.583333</td>\n",
       "      <td>1</td>\n",
       "    </tr>\n",
       "    <tr>\n",
       "      <th>95410</th>\n",
       "      <td>99</td>\n",
       "      <td>92</td>\n",
       "      <td>26</td>\n",
       "      <td>1</td>\n",
       "      <td>12</td>\n",
       "      <td>44</td>\n",
       "      <td>19</td>\n",
       "      <td>0</td>\n",
       "      <td>43</td>\n",
       "      <td>1</td>\n",
       "      <td>0</td>\n",
       "      <td>0</td>\n",
       "      <td>5.00</td>\n",
       "      <td>18.0</td>\n",
       "      <td>12.146341</td>\n",
       "      <td>4</td>\n",
       "    </tr>\n",
       "  </tbody>\n",
       "</table>\n",
       "<p>4843 rows × 16 columns</p>\n",
       "</div>"
      ],
      "text/plain": [
       "       POP90C1  ETH1  HHN2  DW9  HU2  HHD1  ETHC1  HUPA7  MC1  TPE7  ANC15  \\\n",
       "20          99    97    30    0   12    42     21      0   61     0      0   \n",
       "30          99    94    23    0    3    63     30      0   74     0      0   \n",
       "45          89    99    43    0    4    27     16      0   61     0      1   \n",
       "78          99    97    44    0   37    18     11      0   55     0      0   \n",
       "93          99     7    21    0   11    55      0      0   39     0      0   \n",
       "...        ...   ...   ...  ...  ...   ...    ...    ...  ...   ...    ...   \n",
       "95298        0    94    37    0   43    28     18      0   60     0      0   \n",
       "95309       99    90    36    1   28    42     22      0   86     0      0   \n",
       "95398       99    85    33    0   25    29     14      0   32     0      0   \n",
       "95403        0    99    30    0   21    45     28      2   38     0      0   \n",
       "95410       99    92    26    1   12    44     19      0   43     1      0   \n",
       "\n",
       "       HC15  MINRAMNT  LASTGIFT    AVGGIFT  RFA_2F  \n",
       "20        0      2.00       5.0   4.066667       3  \n",
       "30        0      2.00       7.0   6.181818       3  \n",
       "45        0      3.00       5.0   4.857143       3  \n",
       "78        0      5.00      10.0  11.000000       2  \n",
       "93        0      5.00      12.0   9.400000       3  \n",
       "...     ...       ...       ...        ...     ...  \n",
       "95298     0      0.07      17.0   7.935667       1  \n",
       "95309     0      5.00      15.0  11.666667       1  \n",
       "95398     0      5.00      20.0  14.400000       3  \n",
       "95403     0      3.00      20.0  11.583333       1  \n",
       "95410     0      5.00      18.0  12.146341       4  \n",
       "\n",
       "[4843 rows x 16 columns]"
      ]
     },
     "execution_count": 158,
     "metadata": {},
     "output_type": "execute_result"
    }
   ],
   "source": [
    "donated_num_feat_RFE\n"
   ]
  },
  {
   "cell_type": "code",
   "execution_count": 159,
   "id": "5a3552fe",
   "metadata": {},
   "outputs": [],
   "source": [
    "\n",
    "X_RFE = donated_num_feat_RFE\n",
    "y_RFE = donated['TARGET_D']\n",
    "\n",
    "### train test spliting \n",
    "X_train, X_test, y_train, y_test = train_test_split(X_RFE, y_RFE, test_size=0.25)\n",
    "\n",
    "#Usage of MinMax Scaler\n",
    "scaler = MinMaxScaler().fit(X_train)\n",
    "\n",
    "## scaling the train and test \n",
    "X_train_scaled = scaler.transform(X_train)\n",
    "X_test_scaled = scaler.transform(X_test)\n",
    "\n",
    "## creating new DF for the scaled data\n",
    "X_train_scaled = pd.DataFrame(X_train_scaled, columns=list(X_train.columns))\n",
    "X_test_scaled = pd.DataFrame(X_test_scaled, columns=list(X_test.columns))\n",
    "\n",
    "X_train = X_train_scaled\n",
    "X_test = X_test_scaled\n",
    "\n",
    "y_train = y_train.reset_index(drop=True) \n",
    "y_test = y_test.reset_index(drop=True) "
   ]
  },
  {
   "cell_type": "code",
   "execution_count": 160,
   "id": "614ae3b5",
   "metadata": {},
   "outputs": [
    {
     "name": "stdout",
     "output_type": "stream",
     "text": [
      "0.612211380739019\n",
      "0.5283686156706647\n"
     ]
    }
   ],
   "source": [
    "from sklearn.ensemble import RandomForestRegressor\n",
    "regr = RandomForestRegressor(max_depth=10,\n",
    "                             criterion = 'squared_error',\n",
    "                             min_samples_split=10,\n",
    "                             min_samples_leaf = 10)\n",
    "regr.fit(X_train, y_train)\n",
    "print(regr.score(X_train, y_train))\n",
    "print(regr.score(X_test, y_test))\n",
    "\n",
    "y_pred = regr.predict(X_test)"
   ]
  },
  {
   "cell_type": "code",
   "execution_count": 161,
   "id": "2be76ce5",
   "metadata": {},
   "outputs": [
    {
     "data": {
      "text/plain": [
       "array([20.33307487,  7.59252932, 20.95540006, ...,  9.72530022,\n",
       "       11.88965586, 20.61985559])"
      ]
     },
     "execution_count": 161,
     "metadata": {},
     "output_type": "execute_result"
    }
   ],
   "source": [
    "y_pred\n",
    "###  prediction of how much each person will donate "
   ]
  },
  {
   "cell_type": "code",
   "execution_count": 163,
   "id": "828ab8a6",
   "metadata": {},
   "outputs": [
    {
     "data": {
      "text/plain": [
       "MinMaxScaler()"
      ]
     },
     "execution_count": 163,
     "metadata": {},
     "output_type": "execute_result"
    }
   ],
   "source": [
    "#Classifier Model\n",
    "selection\n",
    "#Regressor Model\n",
    "regr\n",
    "#Scaler\n",
    "scaler"
   ]
  },
  {
   "cell_type": "code",
   "execution_count": 167,
   "id": "d1adabe5",
   "metadata": {},
   "outputs": [
    {
     "data": {
      "text/plain": [
       "Index(['TCODE', 'AGE', 'INCOME', 'WEALTH1', 'HIT', 'MALEMILI', 'MALEVET',\n",
       "       'VIETVETS', 'WWIIVETS', 'LOCALGOV',\n",
       "       ...\n",
       "       'MAXRDATE_MM_12', 'LASTDATE_YR_96', 'LASTDATE_MM_2', 'LASTDATE_MM_3',\n",
       "       'LASTDATE_MM_12', 'FIRSTDATE_YR_94', 'FIRSTDATE_YR_95',\n",
       "       'FIRSTDATE_MM_2', 'FIRSTDATE_MM_9', 'FIRSTDATE_MM_10'],\n",
       "      dtype='object', length=355)"
      ]
     },
     "execution_count": 167,
     "metadata": {},
     "output_type": "execute_result"
    }
   ],
   "source": [
    "X_selected_list # for selection \n"
   ]
  },
  {
   "cell_type": "code",
   "execution_count": 168,
   "id": "69beeed7",
   "metadata": {},
   "outputs": [
    {
     "data": {
      "text/plain": [
       "['POP90C1',\n",
       " 'ETH1',\n",
       " 'HHN2',\n",
       " 'DW9',\n",
       " 'HU2',\n",
       " 'HHD1',\n",
       " 'ETHC1',\n",
       " 'HUPA7',\n",
       " 'MC1',\n",
       " 'TPE7',\n",
       " 'ANC15',\n",
       " 'HC15',\n",
       " 'MINRAMNT',\n",
       " 'LASTGIFT',\n",
       " 'AVGGIFT',\n",
       " 'RFA_2F']"
      ]
     },
     "execution_count": 168,
     "metadata": {},
     "output_type": "execute_result"
    }
   ],
   "source": [
    "numerical_features_selected # for regression\n"
   ]
  },
  {
   "cell_type": "code",
   "execution_count": 169,
   "id": "7ea2cbf3",
   "metadata": {},
   "outputs": [],
   "source": [
    "X = all_data.drop(['TARGET_B', 'TARGET_D'], axis = 1)\n",
    "y_B = all_data['TARGET_B']\n",
    "y_D = all_data['TARGET_D']"
   ]
  },
  {
   "cell_type": "code",
   "execution_count": 174,
   "id": "16834ef7",
   "metadata": {},
   "outputs": [
    {
     "name": "stderr",
     "output_type": "stream",
     "text": [
      "C:\\Users\\adyto\\anaconda3\\lib\\site-packages\\sklearn\\base.py:493: FutureWarning: The feature names should match those that were passed during fit. Starting version 1.2, an error will be raised.\n",
      "Feature names unseen at fit time:\n",
      "- AC1\n",
      "- AC2\n",
      "- ADI\n",
      "- AFC1\n",
      "- AFC2\n",
      "- ...\n",
      "Feature names must be in the same order as they were in fit.\n",
      "\n",
      "  warnings.warn(message, FutureWarning)\n"
     ]
    },
    {
     "ename": "ValueError",
     "evalue": "X has 317 features, but MinMaxScaler is expecting 16 features as input.",
     "output_type": "error",
     "traceback": [
      "\u001b[1;31m---------------------------------------------------------------------------\u001b[0m",
      "\u001b[1;31mValueError\u001b[0m                                Traceback (most recent call last)",
      "\u001b[1;32m~\\AppData\\Local\\Temp\\ipykernel_13408\\69480171.py\u001b[0m in \u001b[0;36m<module>\u001b[1;34m\u001b[0m\n\u001b[0;32m      1\u001b[0m \u001b[0mX_numerical\u001b[0m \u001b[1;33m=\u001b[0m \u001b[0mX\u001b[0m\u001b[1;33m.\u001b[0m\u001b[0mselect_dtypes\u001b[0m\u001b[1;33m(\u001b[0m\u001b[0mnp\u001b[0m\u001b[1;33m.\u001b[0m\u001b[0mnumber\u001b[0m\u001b[1;33m)\u001b[0m\u001b[1;33m\u001b[0m\u001b[1;33m\u001b[0m\u001b[0m\n\u001b[1;32m----> 2\u001b[1;33m \u001b[0mX_scaled\u001b[0m \u001b[1;33m=\u001b[0m \u001b[0mscaler\u001b[0m\u001b[1;33m.\u001b[0m\u001b[0mtransform\u001b[0m\u001b[1;33m(\u001b[0m\u001b[0mX_numerical\u001b[0m\u001b[1;33m)\u001b[0m\u001b[1;33m\u001b[0m\u001b[1;33m\u001b[0m\u001b[0m\n\u001b[0m\u001b[0;32m      3\u001b[0m \u001b[1;33m\u001b[0m\u001b[0m\n\u001b[0;32m      4\u001b[0m \u001b[1;31m### imbalance therefor will ask TA on monday\u001b[0m\u001b[1;33m\u001b[0m\u001b[1;33m\u001b[0m\u001b[0m\n",
      "\u001b[1;32m~\\anaconda3\\lib\\site-packages\\sklearn\\preprocessing\\_data.py\u001b[0m in \u001b[0;36mtransform\u001b[1;34m(self, X)\u001b[0m\n\u001b[0;32m    494\u001b[0m         \u001b[0mcheck_is_fitted\u001b[0m\u001b[1;33m(\u001b[0m\u001b[0mself\u001b[0m\u001b[1;33m)\u001b[0m\u001b[1;33m\u001b[0m\u001b[1;33m\u001b[0m\u001b[0m\n\u001b[0;32m    495\u001b[0m \u001b[1;33m\u001b[0m\u001b[0m\n\u001b[1;32m--> 496\u001b[1;33m         X = self._validate_data(\n\u001b[0m\u001b[0;32m    497\u001b[0m             \u001b[0mX\u001b[0m\u001b[1;33m,\u001b[0m\u001b[1;33m\u001b[0m\u001b[1;33m\u001b[0m\u001b[0m\n\u001b[0;32m    498\u001b[0m             \u001b[0mcopy\u001b[0m\u001b[1;33m=\u001b[0m\u001b[0mself\u001b[0m\u001b[1;33m.\u001b[0m\u001b[0mcopy\u001b[0m\u001b[1;33m,\u001b[0m\u001b[1;33m\u001b[0m\u001b[1;33m\u001b[0m\u001b[0m\n",
      "\u001b[1;32m~\\anaconda3\\lib\\site-packages\\sklearn\\base.py\u001b[0m in \u001b[0;36m_validate_data\u001b[1;34m(self, X, y, reset, validate_separately, **check_params)\u001b[0m\n\u001b[0;32m    583\u001b[0m \u001b[1;33m\u001b[0m\u001b[0m\n\u001b[0;32m    584\u001b[0m         \u001b[1;32mif\u001b[0m \u001b[1;32mnot\u001b[0m \u001b[0mno_val_X\u001b[0m \u001b[1;32mand\u001b[0m \u001b[0mcheck_params\u001b[0m\u001b[1;33m.\u001b[0m\u001b[0mget\u001b[0m\u001b[1;33m(\u001b[0m\u001b[1;34m\"ensure_2d\"\u001b[0m\u001b[1;33m,\u001b[0m \u001b[1;32mTrue\u001b[0m\u001b[1;33m)\u001b[0m\u001b[1;33m:\u001b[0m\u001b[1;33m\u001b[0m\u001b[1;33m\u001b[0m\u001b[0m\n\u001b[1;32m--> 585\u001b[1;33m             \u001b[0mself\u001b[0m\u001b[1;33m.\u001b[0m\u001b[0m_check_n_features\u001b[0m\u001b[1;33m(\u001b[0m\u001b[0mX\u001b[0m\u001b[1;33m,\u001b[0m \u001b[0mreset\u001b[0m\u001b[1;33m=\u001b[0m\u001b[0mreset\u001b[0m\u001b[1;33m)\u001b[0m\u001b[1;33m\u001b[0m\u001b[1;33m\u001b[0m\u001b[0m\n\u001b[0m\u001b[0;32m    586\u001b[0m \u001b[1;33m\u001b[0m\u001b[0m\n\u001b[0;32m    587\u001b[0m         \u001b[1;32mreturn\u001b[0m \u001b[0mout\u001b[0m\u001b[1;33m\u001b[0m\u001b[1;33m\u001b[0m\u001b[0m\n",
      "\u001b[1;32m~\\anaconda3\\lib\\site-packages\\sklearn\\base.py\u001b[0m in \u001b[0;36m_check_n_features\u001b[1;34m(self, X, reset)\u001b[0m\n\u001b[0;32m    398\u001b[0m \u001b[1;33m\u001b[0m\u001b[0m\n\u001b[0;32m    399\u001b[0m         \u001b[1;32mif\u001b[0m \u001b[0mn_features\u001b[0m \u001b[1;33m!=\u001b[0m \u001b[0mself\u001b[0m\u001b[1;33m.\u001b[0m\u001b[0mn_features_in_\u001b[0m\u001b[1;33m:\u001b[0m\u001b[1;33m\u001b[0m\u001b[1;33m\u001b[0m\u001b[0m\n\u001b[1;32m--> 400\u001b[1;33m             raise ValueError(\n\u001b[0m\u001b[0;32m    401\u001b[0m                 \u001b[1;34mf\"X has {n_features} features, but {self.__class__.__name__} \"\u001b[0m\u001b[1;33m\u001b[0m\u001b[1;33m\u001b[0m\u001b[0m\n\u001b[0;32m    402\u001b[0m                 \u001b[1;34mf\"is expecting {self.n_features_in_} features as input.\"\u001b[0m\u001b[1;33m\u001b[0m\u001b[1;33m\u001b[0m\u001b[0m\n",
      "\u001b[1;31mValueError\u001b[0m: X has 317 features, but MinMaxScaler is expecting 16 features as input."
     ]
    }
   ],
   "source": [
    "X_numerical = X.select_dtypes(np.number)\n",
    "X_scaled = scaler.transform(X_numerical)\n",
    "\n",
    "### imbalance therefor will ask TA on monday"
   ]
  },
  {
   "cell_type": "code",
   "execution_count": null,
   "id": "929c406a",
   "metadata": {},
   "outputs": [],
   "source": []
  }
 ],
 "metadata": {
  "kernelspec": {
   "display_name": "Python 3 (ipykernel)",
   "language": "python",
   "name": "python3"
  },
  "language_info": {
   "codemirror_mode": {
    "name": "ipython",
    "version": 3
   },
   "file_extension": ".py",
   "mimetype": "text/x-python",
   "name": "python",
   "nbconvert_exporter": "python",
   "pygments_lexer": "ipython3",
   "version": "3.9.13"
  }
 },
 "nbformat": 4,
 "nbformat_minor": 5
}
